{
 "cells": [
  {
   "cell_type": "code",
   "execution_count": null,
   "id": "21c4b04d",
   "metadata": {},
   "outputs": [],
   "source": []
  },
  {
   "cell_type": "code",
   "execution_count": 2,
   "id": "c2089c43",
   "metadata": {},
   "outputs": [
    {
     "name": "stdout",
     "output_type": "stream",
     "text": [
      "I am 20 years old in \n"
     ]
    }
   ],
   "source": [
    "year_of_birth = int(input(\"Enter your year of birth here \"))\n",
    "age=2025-year_of_birth\n",
    "print(f\"I am {age} years old in \")"
   ]
  },
  {
   "cell_type": "code",
   "execution_count": 2,
   "id": "1ff9639f",
   "metadata": {},
   "outputs": [],
   "source": [
    "greeting=input(\"say Hi to get a response \")\n",
    "\n"
   ]
  },
  {
   "cell_type": "markdown",
   "id": "57c272ba",
   "metadata": {},
   "source": [
    "### variables\n",
    "define x to be 10 and y to be 20"
   ]
  },
  {
   "cell_type": "code",
   "execution_count": 3,
   "id": "7d6a0356",
   "metadata": {},
   "outputs": [],
   "source": [
    "x=10\n",
    "y=20"
   ]
  },
  {
   "cell_type": "code",
   "execution_count": 4,
   "id": "032ecb93",
   "metadata": {},
   "outputs": [
    {
     "data": {
      "text/plain": [
       "10"
      ]
     },
     "execution_count": 4,
     "metadata": {},
     "output_type": "execute_result"
    }
   ],
   "source": [
    "y-x"
   ]
  },
  {
   "cell_type": "code",
   "execution_count": 6,
   "id": "a26980ef",
   "metadata": {},
   "outputs": [
    {
     "data": {
      "text/plain": [
       "200"
      ]
     },
     "execution_count": 6,
     "metadata": {},
     "output_type": "execute_result"
    }
   ],
   "source": [
    "x*y"
   ]
  },
  {
   "cell_type": "code",
   "execution_count": 7,
   "id": "c56ee946",
   "metadata": {},
   "outputs": [
    {
     "data": {
      "text/plain": [
       "2.0"
      ]
     },
     "execution_count": 7,
     "metadata": {},
     "output_type": "execute_result"
    }
   ],
   "source": [
    "#divide\n",
    "y/x"
   ]
  },
  {
   "cell_type": "code",
   "execution_count": 9,
   "id": "51a07522",
   "metadata": {},
   "outputs": [
    {
     "data": {
      "text/plain": [
       "1000"
      ]
     },
     "execution_count": 9,
     "metadata": {},
     "output_type": "execute_result"
    }
   ],
   "source": [
    "#power\n",
    "x**3"
   ]
  },
  {
   "cell_type": "code",
   "execution_count": 16,
   "id": "2ac7c070",
   "metadata": {},
   "outputs": [],
   "source": [
    "z=3"
   ]
  },
  {
   "cell_type": "code",
   "execution_count": 17,
   "id": "930704d1",
   "metadata": {},
   "outputs": [
    {
     "data": {
      "text/plain": [
       "2"
      ]
     },
     "execution_count": 17,
     "metadata": {},
     "output_type": "execute_result"
    }
   ],
   "source": [
    "#modulus when you divide 10 with 3 what is the remainder\n",
    "y%z"
   ]
  },
  {
   "cell_type": "markdown",
   "id": "317ae6ed",
   "metadata": {},
   "source": [
    "### logical operations\n",
    "They include\n",
    "- and\n",
    "- or\n",
    "- not\n",
    "### comparison operators\n",
    "for example\n",
    "- equal to(==)\n",
    "- not equal to(!=)\n",
    "- greater than(>)\n",
    "- less than(<)\n",
    "- greater than or equal to(>=)\n",
    "- less than or equal to(<=)"
   ]
  },
  {
   "cell_type": "code",
   "execution_count": 18,
   "id": "1aeb2d68",
   "metadata": {},
   "outputs": [
    {
     "name": "stdout",
     "output_type": "stream",
     "text": [
      "30 100000000000000000000 10\n"
     ]
    }
   ],
   "source": [
    "print(x+y,x**y,x%y)"
   ]
  },
  {
   "cell_type": "code",
   "execution_count": 19,
   "id": "aeb09fcd",
   "metadata": {},
   "outputs": [
    {
     "name": "stdout",
     "output_type": "stream",
     "text": [
      "True\n"
     ]
    }
   ],
   "source": [
    "# y greater than x\n",
    "print(y>x)"
   ]
  },
  {
   "cell_type": "code",
   "execution_count": 20,
   "id": "0cf79049",
   "metadata": {},
   "outputs": [
    {
     "name": "stdout",
     "output_type": "stream",
     "text": [
      "True\n"
     ]
    }
   ],
   "source": [
    "# x less than y\n",
    "print(x<y)"
   ]
  },
  {
   "cell_type": "code",
   "execution_count": 21,
   "id": "0bc11427",
   "metadata": {},
   "outputs": [
    {
     "name": "stdout",
     "output_type": "stream",
     "text": [
      "False\n"
     ]
    }
   ],
   "source": [
    "# x greater than y\n",
    "print(x>y)"
   ]
  },
  {
   "cell_type": "markdown",
   "id": "e80608e9",
   "metadata": {},
   "source": [
    "### control flow\n",
    "- if\n",
    "- elif\n",
    "- else\n",
    "- if elif else...multiple conditions"
   ]
  },
  {
   "cell_type": "code",
   "execution_count": 26,
   "id": "39d00d93",
   "metadata": {},
   "outputs": [
    {
     "name": "stdout",
     "output_type": "stream",
     "text": [
      "Mtu mzima\n"
     ]
    }
   ],
   "source": [
    "miaka = int(input(\"weka miaka yako \"))\n",
    "if miaka < 18:\n",
    "    print(\"Mtoto\")\n",
    "else:\n",
    "    print(\"Mtu mzima\")\n"
   ]
  },
  {
   "cell_type": "code",
   "execution_count": 33,
   "id": "ff17e14e",
   "metadata": {},
   "outputs": [
    {
     "name": "stdout",
     "output_type": "stream",
     "text": [
      "Mtu mzima\n"
     ]
    }
   ],
   "source": [
    "# child young adult adult senior \n",
    "miaka = int(input(\"weka miaka yako \"))\n",
    "if miaka >0 and miaka < 13:\n",
    "    print(\"Mtoto\")\n",
    "elif miaka >=13 and miaka < 20:\n",
    "    print(\"Kijana\")\n",
    "elif miaka >=20 and miaka < 35:\n",
    "    print(\"Mtu mzima\")\n",
    "else:\n",
    "    print(\"Mzee\")"
   ]
  },
  {
   "cell_type": "markdown",
   "id": "3b807b62",
   "metadata": {},
   "source": [
    "### loops\n",
    "-FOR LOOPS.....literates through every element in a given data structure\n",
    "-WHILE LOOPS...only when the condition remains true"
   ]
  },
  {
   "cell_type": "code",
   "execution_count": 34,
   "id": "338da980",
   "metadata": {},
   "outputs": [
    {
     "name": "stdout",
     "output_type": "stream",
     "text": [
      "mango\n",
      "banana\n",
      "orange\n",
      "apple\n"
     ]
    }
   ],
   "source": [
    "#list of fruits\n",
    "fruits = [\"mango\",\"banana\",\"orange\",\"apple\"]\n",
    "for fruit in fruits:\n",
    "    print(fruit)"
   ]
  },
  {
   "cell_type": "code",
   "execution_count": 37,
   "id": "2f852919",
   "metadata": {},
   "outputs": [
    {
     "name": "stdout",
     "output_type": "stream",
     "text": [
      "1 ,2 ,3 ,4 ,5 ,"
     ]
    }
   ],
   "source": [
    "#list of numbers 1-5\n",
    "numbers = [1, 2, 3, 4, 5]\n",
    "for number in numbers:\n",
    "    print(number,end=\" ,\")"
   ]
  },
  {
   "cell_type": "code",
   "execution_count": 44,
   "id": "332aacac",
   "metadata": {},
   "outputs": [
    {
     "name": "stdout",
     "output_type": "stream",
     "text": [
      "0\n",
      "1\n",
      "2\n",
      "3\n",
      "4\n"
     ]
    }
   ],
   "source": [
    "#while loop\n",
    "#counting from 0 to 5\n",
    "count=0\n",
    "while count < 5:\n",
    "    print(count)\n",
    "    count +=1"
   ]
  },
  {
   "cell_type": "code",
   "execution_count": 54,
   "id": "94cee5e1",
   "metadata": {},
   "outputs": [
    {
     "name": "stdout",
     "output_type": "stream",
     "text": [
      "1\n",
      "2\n",
      "3\n",
      "4\n"
     ]
    }
   ],
   "source": [
    "#break, continue and pass\n",
    "for num in numbers:\n",
    "    if num >= 5:\n",
    "        break\n",
    "    print(num)\n"
   ]
  },
  {
   "cell_type": "markdown",
   "id": "fc4a210b",
   "metadata": {},
   "source": [
    "### list comprehensions\n",
    "easier way of creating lists from loops\n"
   ]
  },
  {
   "cell_type": "code",
   "execution_count": null,
   "id": "3ca413c1",
   "metadata": {},
   "outputs": [
    {
     "data": {
      "text/plain": [
       "range(0, 6)"
      ]
     },
     "execution_count": 55,
     "metadata": {},
     "output_type": "execute_result"
    }
   ],
   "source": [
    "even_numbers= [i for i in range(0;11)if i%22=0]"
   ]
  },
  {
   "cell_type": "code",
   "execution_count": null,
   "id": "acd18d55",
   "metadata": {},
   "outputs": [],
   "source": []
  },
  {
   "cell_type": "code",
   "execution_count": null,
   "id": "58e3df9c",
   "metadata": {},
   "outputs": [],
   "source": []
  },
  {
   "cell_type": "code",
   "execution_count": 5,
   "id": "a0b92eba",
   "metadata": {},
   "outputs": [],
   "source": [
    "def multiply(a,b,c):\n",
    "    return a*b*c"
   ]
  },
  {
   "cell_type": "code",
   "execution_count": 3,
   "id": "0508dcfb",
   "metadata": {},
   "outputs": [],
   "source": [
    "def greeting (name):\n",
    "    return f\"Hello {name}\""
   ]
  },
  {
   "cell_type": "code",
   "execution_count": 4,
   "id": "c9afc61c",
   "metadata": {},
   "outputs": [
    {
     "name": "stdout",
     "output_type": "stream",
     "text": [
      "<function greeting at 0x0000018913E1B600>\n"
     ]
    }
   ],
   "source": [
    "greeting1=greeting(\"Mercy\")\n",
    "print (greeting)"
   ]
  },
  {
   "cell_type": "code",
   "execution_count": null,
   "id": "3fe709b9",
   "metadata": {},
   "outputs": [],
   "source": [
    "multiply=multiply(10,11,12)\n",
    "print(multiply)"
   ]
  },
  {
   "cell_type": "code",
   "execution_count": 6,
   "id": "ba730f8a",
   "metadata": {},
   "outputs": [],
   "source": [
    "### lamda functions\n",
    "product = lambda x,y,z: x*y*z\n"
   ]
  },
  {
   "cell_type": "code",
   "execution_count": 53,
   "id": "c5cdfae4",
   "metadata": {},
   "outputs": [
    {
     "ename": "NameError",
     "evalue": "name 'product' is not defined",
     "output_type": "error",
     "traceback": [
      "\u001b[31m---------------------------------------------------------------------------\u001b[39m",
      "\u001b[31mNameError\u001b[39m                                 Traceback (most recent call last)",
      "\u001b[36mCell\u001b[39m\u001b[36m \u001b[39m\u001b[32mIn[53]\u001b[39m\u001b[32m, line 1\u001b[39m\n\u001b[32m----> \u001b[39m\u001b[32m1\u001b[39m result = \u001b[43mproduct\u001b[49m(\u001b[32m10\u001b[39m, \u001b[32m11\u001b[39m, \u001b[32m12\u001b[39m)\n\u001b[32m      2\u001b[39m \u001b[38;5;28mprint\u001b[39m(result)\n",
      "\u001b[31mNameError\u001b[39m: name 'product' is not defined"
     ]
    }
   ],
   "source": [
    "result = product(10, 11, 12)\n",
    "print(result)"
   ]
  },
  {
   "cell_type": "code",
   "execution_count": 24,
   "id": "0a400778",
   "metadata": {},
   "outputs": [],
   "source": [
    "greeting = lambda name: f\"Hello {name}\""
   ]
  },
  {
   "cell_type": "code",
   "execution_count": 26,
   "id": "6c26cfb5",
   "metadata": {},
   "outputs": [
    {
     "name": "stdout",
     "output_type": "stream",
     "text": [
      "Hello Gideon\n"
     ]
    }
   ],
   "source": [
    "greeting2 = lambda name: f\"Hello {name}\"\n",
    "print(greeting2(\"Gideon\"))"
   ]
  },
  {
   "cell_type": "markdown",
   "id": "f326fb49",
   "metadata": {},
   "source": [
    "write a function that checks if a number is even or odd"
   ]
  },
  {
   "cell_type": "markdown",
   "id": "1ae18ea2",
   "metadata": {},
   "source": [
    "### data structures\n",
    "1. sets\n",
    "2. dictonaries\n",
    "3. list\n",
    "4. tuples\n",
    "\n",
    "1.LISTS\n",
    "are ordered and mutable (can be changed)"
   ]
  },
  {
   "cell_type": "code",
   "execution_count": 27,
   "id": "8ee78240",
   "metadata": {},
   "outputs": [
    {
     "data": {
      "text/plain": [
       "['banana', 'mango', 'orange', 'apple']"
      ]
     },
     "execution_count": 27,
     "metadata": {},
     "output_type": "execute_result"
    }
   ],
   "source": [
    "fruits = [\"banana\", \"mango\", \"orange\"]\n",
    "fruits.append(\"apple\")\n",
    "fruits"
   ]
  },
  {
   "cell_type": "code",
   "execution_count": 30,
   "id": "ab50d7b7",
   "metadata": {},
   "outputs": [
    {
     "data": {
      "text/plain": [
       "'apple'"
      ]
     },
     "execution_count": 30,
     "metadata": {},
     "output_type": "execute_result"
    }
   ],
   "source": [
    "fruits.pop()"
   ]
  },
  {
   "cell_type": "code",
   "execution_count": 31,
   "id": "a179ff9e",
   "metadata": {},
   "outputs": [
    {
     "data": {
      "text/plain": [
       "['banana', 'mango', 'orange']"
      ]
     },
     "execution_count": 31,
     "metadata": {},
     "output_type": "execute_result"
    }
   ],
   "source": [
    "fruits"
   ]
  },
  {
   "cell_type": "markdown",
   "id": "c665c9f2",
   "metadata": {},
   "source": [
    "2. Tupples\n",
    "you cannot add anything(cannot be changed/ immutable)\n",
    "ordered like a list denoted using()\n",
    "methods...count/index"
   ]
  },
  {
   "cell_type": "code",
   "execution_count": 32,
   "id": "a3365ad2",
   "metadata": {},
   "outputs": [
    {
     "data": {
      "text/plain": [
       "1"
      ]
     },
     "execution_count": 32,
     "metadata": {},
     "output_type": "execute_result"
    }
   ],
   "source": [
    "Image_pixels = (1920, 1080)\n",
    "Image_pixels.count(1920)"
   ]
  },
  {
   "cell_type": "code",
   "execution_count": 34,
   "id": "bb966cb6",
   "metadata": {},
   "outputs": [
    {
     "data": {
      "text/plain": [
       "1"
      ]
     },
     "execution_count": 34,
     "metadata": {},
     "output_type": "execute_result"
    }
   ],
   "source": [
    "Image_pixels.index(1080)"
   ]
  },
  {
   "cell_type": "code",
   "execution_count": 35,
   "id": "ed13fe8d",
   "metadata": {},
   "outputs": [
    {
     "data": {
      "text/plain": [
       "1080"
      ]
     },
     "execution_count": 35,
     "metadata": {},
     "output_type": "execute_result"
    }
   ],
   "source": [
    "Image_pixels[1]"
   ]
  },
  {
   "cell_type": "markdown",
   "id": "28839c7e",
   "metadata": {},
   "source": [
    "3. Sets"
   ]
  },
  {
   "cell_type": "code",
   "execution_count": 36,
   "id": "baf42360",
   "metadata": {},
   "outputs": [],
   "source": [
    "set1 = {5,7,6,8,4}\n",
    "set2 = {1,2,3,4,9}"
   ]
  },
  {
   "cell_type": "code",
   "execution_count": 37,
   "id": "4d910812",
   "metadata": {},
   "outputs": [
    {
     "data": {
      "text/plain": [
       "{4}"
      ]
     },
     "execution_count": 37,
     "metadata": {},
     "output_type": "execute_result"
    }
   ],
   "source": [
    "set3 = set1.intersection(set2)\n",
    "set3"
   ]
  },
  {
   "cell_type": "code",
   "execution_count": 39,
   "id": "493b7755",
   "metadata": {},
   "outputs": [
    {
     "data": {
      "text/plain": [
       "{1, 2, 3, 4, 5, 6, 7, 8, 9}"
      ]
     },
     "execution_count": 39,
     "metadata": {},
     "output_type": "execute_result"
    }
   ],
   "source": [
    "set4 = set1.union(set2) \n",
    "set4"
   ]
  },
  {
   "cell_type": "markdown",
   "id": "cc3f06ca",
   "metadata": {},
   "source": [
    "4. dictionaries denorted by {} the key pair value mutable "
   ]
  },
  {
   "cell_type": "code",
   "execution_count": 41,
   "id": "ecda544d",
   "metadata": {},
   "outputs": [],
   "source": [
    "person = {\n",
    "    \"name\": \"Gideon\",\n",
    "    \"age\": 20,\n",
    "    \"fruits\": \"melon\"\n",
    "}\n"
   ]
  },
  {
   "cell_type": "code",
   "execution_count": 42,
   "id": "a763d3bb",
   "metadata": {},
   "outputs": [
    {
     "data": {
      "text/plain": [
       "{'name': 'Gideon', 'age': 20, 'fruits': 'melon'}"
      ]
     },
     "execution_count": 42,
     "metadata": {},
     "output_type": "execute_result"
    }
   ],
   "source": [
    "person"
   ]
  },
  {
   "cell_type": "code",
   "execution_count": 43,
   "id": "92902cbd",
   "metadata": {},
   "outputs": [],
   "source": [
    "data = {\n",
    "    \"name\": {\"Gideon\", \"Brian\", \"Linda\", \"Sarah\", \"Michael\"},\n",
    "    \"age\": [20, 30, 10, 5, 25],\n",
    "    \"fruits\": [\"banana\", \"apple\", \"orange\", \"mango\", \"grape\"]\n",
    "}\n"
   ]
  },
  {
   "cell_type": "code",
   "execution_count": 2,
   "id": "c5a3c090",
   "metadata": {},
   "outputs": [
    {
     "ename": "NameError",
     "evalue": "name 'data' is not defined",
     "output_type": "error",
     "traceback": [
      "\u001b[31m---------------------------------------------------------------------------\u001b[39m",
      "\u001b[31mNameError\u001b[39m                                 Traceback (most recent call last)",
      "\u001b[36mCell\u001b[39m\u001b[36m \u001b[39m\u001b[32mIn[2]\u001b[39m\u001b[32m, line 2\u001b[39m\n\u001b[32m      1\u001b[39m \u001b[38;5;28;01mimport\u001b[39;00m\u001b[38;5;250m \u001b[39m\u001b[34;01mpandas\u001b[39;00m\u001b[38;5;250m \u001b[39m\u001b[38;5;28;01mas\u001b[39;00m\u001b[38;5;250m \u001b[39m\u001b[34;01mpd\u001b[39;00m\n\u001b[32m----> \u001b[39m\u001b[32m2\u001b[39m df=pd.DataFrame(\u001b[43mdata\u001b[49m)\n\u001b[32m      3\u001b[39m df.head()\n",
      "\u001b[31mNameError\u001b[39m: name 'data' is not defined"
     ]
    }
   ],
   "source": [
    "import pandas as pd\n",
    "df=pd.DataFrame(data)\n",
    "df.head()"
   ]
  },
  {
   "cell_type": "markdown",
   "id": "abb2748f",
   "metadata": {},
   "source": [
    "### INDEXES\n",
    "positioning\n",
    "slicing ...used indices to return a new list without modifying the original list"
   ]
  },
  {
   "cell_type": "code",
   "execution_count": 56,
   "id": "7b497bdb",
   "metadata": {},
   "outputs": [],
   "source": [
    "numbers=[10,20,30,40,50,60,70,80,90,100]"
   ]
  },
  {
   "cell_type": "code",
   "execution_count": 58,
   "id": "8fd81f01",
   "metadata": {},
   "outputs": [
    {
     "data": {
      "text/plain": [
       "40"
      ]
     },
     "execution_count": 58,
     "metadata": {},
     "output_type": "execute_result"
    }
   ],
   "source": [
    "numbers[3]"
   ]
  },
  {
   "cell_type": "code",
   "execution_count": 57,
   "id": "fb941593",
   "metadata": {},
   "outputs": [
    {
     "data": {
      "text/plain": [
       "20"
      ]
     },
     "execution_count": 57,
     "metadata": {},
     "output_type": "execute_result"
    }
   ],
   "source": [
    "numbers[1]"
   ]
  },
  {
   "cell_type": "code",
   "execution_count": 59,
   "id": "918249c2",
   "metadata": {},
   "outputs": [
    {
     "data": {
      "text/plain": [
       "[10, 20, 30]"
      ]
     },
     "execution_count": 59,
     "metadata": {},
     "output_type": "execute_result"
    }
   ],
   "source": [
    "numbers[:3]"
   ]
  },
  {
   "cell_type": "code",
   "execution_count": 63,
   "id": "0b6908f3",
   "metadata": {},
   "outputs": [
    {
     "data": {
      "text/plain": [
       "[60, 70, 80, 90, 100]"
      ]
     },
     "execution_count": 63,
     "metadata": {},
     "output_type": "execute_result"
    }
   ],
   "source": [
    "numbers[5:]"
   ]
  },
  {
   "cell_type": "code",
   "execution_count": 65,
   "id": "fea9fb37",
   "metadata": {},
   "outputs": [
    {
     "data": {
      "text/plain": [
       "[30, 40]"
      ]
     },
     "execution_count": 65,
     "metadata": {},
     "output_type": "execute_result"
    }
   ],
   "source": [
    "numbers[2:4]"
   ]
  },
  {
   "cell_type": "code",
   "execution_count": 66,
   "id": "f19cb508",
   "metadata": {},
   "outputs": [],
   "source": [
    "numbers.append(60)"
   ]
  },
  {
   "cell_type": "code",
   "execution_count": 67,
   "id": "b2481abf",
   "metadata": {},
   "outputs": [
    {
     "data": {
      "text/plain": [
       "[10, 20, 30, 40, 50, 60, 70, 80, 90, 100, 60]"
      ]
     },
     "execution_count": 67,
     "metadata": {},
     "output_type": "execute_result"
    }
   ],
   "source": [
    "numbers"
   ]
  },
  {
   "cell_type": "code",
   "execution_count": 75,
   "id": "be51e406",
   "metadata": {},
   "outputs": [
    {
     "data": {
      "text/plain": [
       "[60, 70, 80, 90, 100, 60]"
      ]
     },
     "execution_count": 75,
     "metadata": {},
     "output_type": "execute_result"
    }
   ],
   "source": [
    "slices = slice(5,11)\n",
    "numbers[slices]"
   ]
  },
  {
   "cell_type": "code",
   "execution_count": 1,
   "id": "3f4c421a",
   "metadata": {},
   "outputs": [],
   "source": [
    "import pandas as pd"
   ]
  },
  {
   "cell_type": "markdown",
   "id": "753a96bf",
   "metadata": {},
   "source": [
    "OOP\n",
    "1. CLASSSES always use upper case for the first letter Blue_print of creating objects always think of attributes when creating an object function inside a class- methods"
   ]
  },
  {
   "cell_type": "code",
   "execution_count": 3,
   "id": "8489afaf",
   "metadata": {},
   "outputs": [],
   "source": [
    "class person :\n",
    "    def __init__(self, name, age, gender, nationality):\n",
    "        self.name = name\n",
    "        self.age = age\n",
    "        self.gender = gender\n",
    "        self.nationality = nationality\n",
    "    def speak(self):\n",
    "        return f\"Hello, my name is {self.name}. I am {self.age} years old. I am a {self.gender} from {self.nationality}.\""
   ]
  },
  {
   "cell_type": "code",
   "execution_count": 7,
   "id": "2fb4890a",
   "metadata": {},
   "outputs": [
    {
     "name": "stdout",
     "output_type": "stream",
     "text": [
      "Hello, my name is Gideon. I am 20 years old. I am a man from Kenyan.\n"
     ]
    }
   ],
   "source": [
    "# example usage\n",
    "person1 = person(\"Gideon\",\"20\",\"man\",\"Kenyan\")\n",
    "print(person1.speak())"
   ]
  },
  {
   "cell_type": "code",
   "execution_count": 10,
   "id": "d296dd73",
   "metadata": {},
   "outputs": [],
   "source": [
    "class Rectangle:\n",
    "    def __init__(self, length, width):\n",
    "        self.length = length\n",
    "        self.width = width\n",
    "\n",
    "    def area(self):\n",
    "       area = self.length * self.width\n",
    "       return f\"The area of the rectangle is, {self.length} and {self.width} is {area} \"\n",
    "    \n",
    "    def perimeter(self):\n",
    "        perimeter = 2 * (self.length + self.width)\n",
    "        return f\"The perimeter of the rectangle is, {self.length} and {self.width} is {perimeter} \""
   ]
  },
  {
   "cell_type": "code",
   "execution_count": 11,
   "id": "61000e94",
   "metadata": {},
   "outputs": [
    {
     "name": "stdout",
     "output_type": "stream",
     "text": [
      "The area of the rectangle is, 10 and 5 is 50 \n"
     ]
    }
   ],
   "source": [
    "Rectangle=Rectangle(10,5)\n",
    "print(Rectangle.area())"
   ]
  },
  {
   "cell_type": "code",
   "execution_count": null,
   "id": "34c0a3eb",
   "metadata": {},
   "outputs": [],
   "source": [
    "class circle:\n",
    "    def __init__(self, radius):\n",
    "        self.radius = radius\n",
    "\n",
    "    def area(self):\n",
    "       area = 3.14 * self.radius * self.radiusj\n",
    "       return f\"The area of the circle is, {self.radius} is {area} \"\n",
    "    \n",
    "    def circumference(self):\n",
    "        circumference = 2 * 3.14 * self.radius\n",
    "        return f\"The circumference of the circle is, {self.radius} is {circumference} \""
   ]
  },
  {
   "cell_type": "code",
   "execution_count": 14,
   "id": "94084d57",
   "metadata": {},
   "outputs": [
    {
     "name": "stdout",
     "output_type": "stream",
     "text": [
      "The area of the circle is, 7 is 153.86 \n"
     ]
    }
   ],
   "source": [
    "circle=circle(7)\n",
    "print(circle.area())"
   ]
  },
  {
   "cell_type": "code",
   "execution_count": 8,
   "id": "8f95d89e",
   "metadata": {},
   "outputs": [],
   "source": [
    "class Animal:\n",
    "    def __init__(self, name):\n",
    "        self.name = name\n",
    "    def speak(self):\n",
    "        return f\"The {self.name} makes a sound\""
   ]
  },
  {
   "cell_type": "code",
   "execution_count": 9,
   "id": "8e484d87",
   "metadata": {},
   "outputs": [],
   "source": [
    "class Dog(Animal):\n",
    "    def speak(self):\n",
    "        return f\"The {self.name} barks\""
   ]
  },
  {
   "cell_type": "code",
   "execution_count": 10,
   "id": "61a0ecee",
   "metadata": {},
   "outputs": [
    {
     "name": "stdout",
     "output_type": "stream",
     "text": [
      "The Sisco barks\n"
     ]
    }
   ],
   "source": [
    "dog1=Dog(\"Sisco\")\n",
    "print(dog1.speak())"
   ]
  },
  {
   "cell_type": "code",
   "execution_count": 13,
   "id": "568ebc2b",
   "metadata": {},
   "outputs": [],
   "source": [
    "class Cat(Animal):\n",
    "    def speak(self):\n",
    "        return f\"The {self.name} meows\"\n"
   ]
  },
  {
   "cell_type": "code",
   "execution_count": 15,
   "id": "b5d9cc91",
   "metadata": {},
   "outputs": [
    {
     "name": "stdout",
     "output_type": "stream",
     "text": [
      "The Tom meows\n"
     ]
    }
   ],
   "source": [
    "cat1=Cat(\"Tom\")\n",
    "print(cat1.speak())"
   ]
  },
  {
   "cell_type": "code",
   "execution_count": null,
   "id": "9e2e8ed1",
   "metadata": {},
   "outputs": [],
   "source": [
    "class Cow(Animal):\n",
    "    def speak(self):\n",
    "        return f\"The {self.name} Moo\""
   ]
  },
  {
   "cell_type": "code",
   "execution_count": 19,
   "id": "65ecb5cd",
   "metadata": {},
   "outputs": [
    {
     "name": "stdout",
     "output_type": "stream",
     "text": [
      "The cherry Moo\n"
     ]
    }
   ],
   "source": [
    "cow1=Cow(\"cherry\")\n",
    "print(cow1.speak())"
   ]
  },
  {
   "cell_type": "code",
   "execution_count": 21,
   "id": "62111b87",
   "metadata": {},
   "outputs": [],
   "source": [
    "class Duck(Animal):\n",
    "    def speak(self):\n",
    "        return f\"The {self.name} qwack\""
   ]
  },
  {
   "cell_type": "code",
   "execution_count": 22,
   "id": "c11bbd8a",
   "metadata": {},
   "outputs": [
    {
     "name": "stdout",
     "output_type": "stream",
     "text": [
      "The Daffy qwack\n"
     ]
    }
   ],
   "source": [
    "duck1=Duck(\"Daffy\")\n",
    "print(duck1.speak())"
   ]
  },
  {
   "cell_type": "markdown",
   "id": "ead05d0b",
   "metadata": {},
   "source": [
    "create a class called employee with name and salary then create a sub class manager with an extra department attribute and method to display the full details??"
   ]
  },
  {
   "cell_type": "code",
   "execution_count": null,
   "id": "79e7f5ee",
   "metadata": {},
   "outputs": [],
   "source": []
  }
 ],
 "metadata": {
  "kernelspec": {
   "display_name": "MyvitualEnvironment",
   "language": "python",
   "name": "python3"
  },
  "language_info": {
   "codemirror_mode": {
    "name": "ipython",
    "version": 3
   },
   "file_extension": ".py",
   "mimetype": "text/x-python",
   "name": "python",
   "nbconvert_exporter": "python",
   "pygments_lexer": "ipython3",
   "version": "3.12.10"
  }
 },
 "nbformat": 4,
 "nbformat_minor": 5
}
