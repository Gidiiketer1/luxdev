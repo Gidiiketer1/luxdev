{
 "cells": [
  {
   "cell_type": "code",
   "execution_count": null,
   "id": "0becd5c4",
   "metadata": {},
   "outputs": [],
   "source": []
  },
  {
   "cell_type": "code",
   "execution_count": 1,
   "id": "eca46437",
   "metadata": {},
   "outputs": [
    {
     "ename": "NameError",
     "evalue": "name 'np' is not defined",
     "output_type": "error",
     "traceback": [
      "\u001b[31m---------------------------------------------------------------------------\u001b[39m",
      "\u001b[31mNameError\u001b[39m                                 Traceback (most recent call last)",
      "\u001b[36mCell\u001b[39m\u001b[36m \u001b[39m\u001b[32mIn[1]\u001b[39m\u001b[32m, line 4\u001b[39m\n\u001b[32m      2\u001b[39m p=\u001b[32m0.75\u001b[39m\n\u001b[32m      3\u001b[39m n=\u001b[32m20\u001b[39m\n\u001b[32m----> \u001b[39m\u001b[32m4\u001b[39m coin1=\u001b[43mnp\u001b[49m.random.binomal(n,p)\n\u001b[32m      5\u001b[39m coin1\n",
      "\u001b[31mNameError\u001b[39m: name 'np' is not defined"
     ]
    }
   ],
   "source": [
    "#testing fair coin\n",
    "p=0.75\n",
    "n=20\n",
    "coin1=np.random.binomal(n,p)\n",
    "coin1"
   ]
  },
  {
   "cell_type": "code",
   "execution_count": 2,
   "id": "627bd111",
   "metadata": {},
   "outputs": [
    {
     "data": {
      "text/plain": [
       "0.25"
      ]
     },
     "execution_count": 2,
     "metadata": {},
     "output_type": "execute_result"
    }
   ],
   "source": [
    "q=1-p\n",
    "q"
   ]
  },
  {
   "cell_type": "code",
   "execution_count": 3,
   "id": "39be7136",
   "metadata": {},
   "outputs": [
    {
     "ename": "NameError",
     "evalue": "name 'np' is not defined",
     "output_type": "error",
     "traceback": [
      "\u001b[31m---------------------------------------------------------------------------\u001b[39m",
      "\u001b[31mNameError\u001b[39m                                 Traceback (most recent call last)",
      "\u001b[36mCell\u001b[39m\u001b[36m \u001b[39m\u001b[32mIn[3]\u001b[39m\u001b[32m, line 1\u001b[39m\n\u001b[32m----> \u001b[39m\u001b[32m1\u001b[39m coin1_sd=\u001b[43mnp\u001b[49m.sqrt (npq)\n\u001b[32m      2\u001b[39m coin1_sd\n",
      "\u001b[31mNameError\u001b[39m: name 'np' is not defined"
     ]
    }
   ],
   "source": [
    "coin1_sd=np.sqrt (npq)\n",
    "coin1_sd"
   ]
  },
  {
   "cell_type": "code",
   "execution_count": 5,
   "id": "0a3c5db2",
   "metadata": {},
   "outputs": [
    {
     "ename": "NameError",
     "evalue": "name 'coin' is not defined",
     "output_type": "error",
     "traceback": [
      "\u001b[31m---------------------------------------------------------------------------\u001b[39m",
      "\u001b[31mNameError\u001b[39m                                 Traceback (most recent call last)",
      "\u001b[36mCell\u001b[39m\u001b[36m \u001b[39m\u001b[32mIn[5]\u001b[39m\u001b[32m, line 3\u001b[39m\n\u001b[32m      1\u001b[39m \u001b[38;5;66;03m#p value\u001b[39;00m\n\u001b[32m      2\u001b[39m \u001b[38;5;66;03m#z score\u001b[39;00m\n\u001b[32m----> \u001b[39m\u001b[32m3\u001b[39m z_score=(\u001b[43mcoin\u001b[49m-\u001b[32m10\u001b[39m)/coin1_sd\n\u001b[32m      4\u001b[39m z_score\n",
      "\u001b[31mNameError\u001b[39m: name 'coin' is not defined"
     ]
    }
   ],
   "source": [
    "#p value\n",
    "#z score\n",
    "z_score=(coin-10)/coin1_sd\n",
    "z_score"
   ]
  },
  {
   "cell_type": "code",
   "execution_count": 4,
   "id": "ab622ef8",
   "metadata": {},
   "outputs": [
    {
     "ename": "NameError",
     "evalue": "name 'starts' is not defined",
     "output_type": "error",
     "traceback": [
      "\u001b[31m---------------------------------------------------------------------------\u001b[39m",
      "\u001b[31mNameError\u001b[39m                                 Traceback (most recent call last)",
      "\u001b[36mCell\u001b[39m\u001b[36m \u001b[39m\u001b[32mIn[4]\u001b[39m\u001b[32m, line 2\u001b[39m\n\u001b[32m      1\u001b[39m \u001b[38;5;66;03m#p value\u001b[39;00m\n\u001b[32m----> \u001b[39m\u001b[32m2\u001b[39m \u001b[43mstarts\u001b[49m.norm.sf(z_score)\n",
      "\u001b[31mNameError\u001b[39m: name 'starts' is not defined"
     ]
    }
   ],
   "source": [
    "#p value\n",
    "starts.norm.sf(z_score)"
   ]
  }
 ],
 "metadata": {
  "kernelspec": {
   "display_name": "MyvitualEnvironment",
   "language": "python",
   "name": "python3"
  },
  "language_info": {
   "codemirror_mode": {
    "name": "ipython",
    "version": 3
   },
   "file_extension": ".py",
   "mimetype": "text/x-python",
   "name": "python",
   "nbconvert_exporter": "python",
   "pygments_lexer": "ipython3",
   "version": "3.12.10"
  }
 },
 "nbformat": 4,
 "nbformat_minor": 5
}
