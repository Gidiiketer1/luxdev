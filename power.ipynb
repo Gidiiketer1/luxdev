{
 "cells": [
  {
   "cell_type": "code",
   "execution_count": 1,
   "id": "cfdd0d8a",
   "metadata": {},
   "outputs": [],
   "source": [
    "import numpy as np\n",
    "import scipy as sp\n",
    "from scipy import stats\n",
    "from statsmodels.stats.power import TTestIndPower\n",
    "import pandas as pd"
   ]
  },
  {
   "cell_type": "code",
   "execution_count": 6,
   "id": "50466627",
   "metadata": {},
   "outputs": [
    {
     "data": {
      "application/vnd.microsoft.datawrangler.viewer.v0+json": {
       "columns": [
        {
         "name": "index",
         "rawType": "int64",
         "type": "integer"
        },
        {
         "name": "effect_size",
         "rawType": "float64",
         "type": "float"
        },
        {
         "name": "sample size",
         "rawType": "int64",
         "type": "integer"
        }
       ],
       "ref": "8b27a3a7-be70-47ea-b8d6-a535ff2f2ee5",
       "rows": [
        [
         "0",
         "0.20000000000000018",
         "10"
        ],
        [
         "1",
         "0.20000000000000018",
         "20"
        ],
        [
         "2",
         "0.20000000000000018",
         "50"
        ],
        [
         "3",
         "0.20000000000000018",
         "500"
        ]
       ],
       "shape": {
        "columns": 2,
        "rows": 4
       }
      },
      "text/html": [
       "<div>\n",
       "<style scoped>\n",
       "    .dataframe tbody tr th:only-of-type {\n",
       "        vertical-align: middle;\n",
       "    }\n",
       "\n",
       "    .dataframe tbody tr th {\n",
       "        vertical-align: top;\n",
       "    }\n",
       "\n",
       "    .dataframe thead th {\n",
       "        text-align: right;\n",
       "    }\n",
       "</style>\n",
       "<table border=\"1\" class=\"dataframe\">\n",
       "  <thead>\n",
       "    <tr style=\"text-align: right;\">\n",
       "      <th></th>\n",
       "      <th>effect_size</th>\n",
       "      <th>sample size</th>\n",
       "    </tr>\n",
       "  </thead>\n",
       "  <tbody>\n",
       "    <tr>\n",
       "      <th>0</th>\n",
       "      <td>0.2</td>\n",
       "      <td>10</td>\n",
       "    </tr>\n",
       "    <tr>\n",
       "      <th>1</th>\n",
       "      <td>0.2</td>\n",
       "      <td>20</td>\n",
       "    </tr>\n",
       "    <tr>\n",
       "      <th>2</th>\n",
       "      <td>0.2</td>\n",
       "      <td>50</td>\n",
       "    </tr>\n",
       "    <tr>\n",
       "      <th>3</th>\n",
       "      <td>0.2</td>\n",
       "      <td>500</td>\n",
       "    </tr>\n",
       "  </tbody>\n",
       "</table>\n",
       "</div>"
      ],
      "text/plain": [
       "   effect_size  sample size\n",
       "0          0.2           10\n",
       "1          0.2           20\n",
       "2          0.2           50\n",
       "3          0.2          500"
      ]
     },
     "execution_count": 6,
     "metadata": {},
     "output_type": "execute_result"
    }
   ],
   "source": [
    "observed = 0.55 #observed probability of getting heads in a coin flip\n",
    "expected = 0.5 #expected probability of getting heads in a fair coin flip\n",
    "prob = expected\n",
    "\n",
    "rows = []\n",
    "for n in [10, 20, 50, 500]:\n",
    "    tsd = np.sqrt(n * prob * (1 - prob))\n",
    "    cohens_d = (n*(observed - expected)) / (n * prob * (1 - prob)) \n",
    "    rows.append({\"effect_size\": cohens_d, \"sample size\": n})\n",
    "import pandas as data\n",
    "data = data.DataFrame(rows)\n",
    "data.head()"
   ]
  },
  {
   "cell_type": "code",
   "execution_count": 5,
   "id": "9c9e43bd",
   "metadata": {},
   "outputs": [
    {
     "name": "stdout",
     "output_type": "stream",
     "text": [
      "hypothesis effect sizes for various alternative hypotheses\n"
     ]
    },
    {
     "data": {
      "application/vnd.microsoft.datawrangler.viewer.v0+json": {
       "columns": [
        {
         "name": "index",
         "rawType": "int64",
         "type": "integer"
        },
        {
         "name": "0.51",
         "rawType": "float64",
         "type": "float"
        },
        {
         "name": "0.55",
         "rawType": "float64",
         "type": "float"
        },
        {
         "name": "0.6",
         "rawType": "float64",
         "type": "float"
        },
        {
         "name": "0.7",
         "rawType": "float64",
         "type": "float"
        }
       ],
       "ref": "bade8ba8-5f2f-41f1-9d27-ddef17706104",
       "rows": [
        [
         "10",
         "0.06324555320336764",
         "0.3162277660168382",
         "0.6324555320336757",
         "1.2649110640673513"
        ],
        [
         "20",
         "0.08944271909999166",
         "0.4472135954999583",
         "0.8944271909999156",
         "1.7888543819998313"
        ],
        [
         "50",
         "0.14142135623730961",
         "0.7071067811865481",
         "1.4142135623730947",
         "2.8284271247461894"
        ],
        [
         "500",
         "0.4472135954999583",
         "2.2360679774997916",
         "4.472135954999578",
         "8.944271909999156"
        ]
       ],
       "shape": {
        "columns": 4,
        "rows": 4
       }
      },
      "text/html": [
       "<div>\n",
       "<style scoped>\n",
       "    .dataframe tbody tr th:only-of-type {\n",
       "        vertical-align: middle;\n",
       "    }\n",
       "\n",
       "    .dataframe tbody tr th {\n",
       "        vertical-align: top;\n",
       "    }\n",
       "\n",
       "    .dataframe thead th {\n",
       "        text-align: right;\n",
       "    }\n",
       "</style>\n",
       "<table border=\"1\" class=\"dataframe\">\n",
       "  <thead>\n",
       "    <tr style=\"text-align: right;\">\n",
       "      <th></th>\n",
       "      <th>0.51</th>\n",
       "      <th>0.55</th>\n",
       "      <th>0.60</th>\n",
       "      <th>0.70</th>\n",
       "    </tr>\n",
       "  </thead>\n",
       "  <tbody>\n",
       "    <tr>\n",
       "      <th>10</th>\n",
       "      <td>0.063246</td>\n",
       "      <td>0.316228</td>\n",
       "      <td>0.632456</td>\n",
       "      <td>1.264911</td>\n",
       "    </tr>\n",
       "    <tr>\n",
       "      <th>20</th>\n",
       "      <td>0.089443</td>\n",
       "      <td>0.447214</td>\n",
       "      <td>0.894427</td>\n",
       "      <td>1.788854</td>\n",
       "    </tr>\n",
       "    <tr>\n",
       "      <th>50</th>\n",
       "      <td>0.141421</td>\n",
       "      <td>0.707107</td>\n",
       "      <td>1.414214</td>\n",
       "      <td>2.828427</td>\n",
       "    </tr>\n",
       "    <tr>\n",
       "      <th>500</th>\n",
       "      <td>0.447214</td>\n",
       "      <td>2.236068</td>\n",
       "      <td>4.472136</td>\n",
       "      <td>8.944272</td>\n",
       "    </tr>\n",
       "  </tbody>\n",
       "</table>\n",
       "</div>"
      ],
      "text/plain": [
       "         0.51      0.55      0.60      0.70\n",
       "10   0.063246  0.316228  0.632456  1.264911\n",
       "20   0.089443  0.447214  0.894427  1.788854\n",
       "50   0.141421  0.707107  1.414214  2.828427\n",
       "500  0.447214  2.236068  4.472136  8.944272"
      ]
     },
     "execution_count": 5,
     "metadata": {},
     "output_type": "execute_result"
    }
   ],
   "source": [
    "dict_rows = {}\n",
    "for n in [10, 20, 50, 500]:\n",
    "    temp_dict = {}  # Temporary dictionary to store Cohen's d of the alternative hypothesis\n",
    "    for observed in [0.51, 0.55, 0.6, 0.7]:\n",
    "        tsd = np.sqrt(n * prob * (1 - prob))\n",
    "        cohens_d = (n * (observed - expected)) / tsd\n",
    "        temp_dict[observed] = cohens_d\n",
    "    dict_rows[n] = temp_dict\n",
    "print('hypothesis effect sizes for various alternative hypotheses')\n",
    "df = pd.DataFrame.from_dict(dict_rows, orient='index')\n",
    "#df.index = [10, 20, 50, 500]\n",
    "#df.columns.name = 'sample size'\n",
    "#df.columns.name = 'alternative hypothesis '\n",
    "df.head()"
   ]
  },
  {
   "cell_type": "code",
   "execution_count": null,
   "id": "b75f2237",
   "metadata": {},
   "outputs": [],
   "source": []
  }
 ],
 "metadata": {
  "kernelspec": {
   "display_name": "MyvitualEnvironment",
   "language": "python",
   "name": "python3"
  },
  "language_info": {
   "codemirror_mode": {
    "name": "ipython",
    "version": 3
   },
   "file_extension": ".py",
   "mimetype": "text/x-python",
   "name": "python",
   "nbconvert_exporter": "python",
   "pygments_lexer": "ipython3",
   "version": "3.12.10"
  }
 },
 "nbformat": 4,
 "nbformat_minor": 5
}
