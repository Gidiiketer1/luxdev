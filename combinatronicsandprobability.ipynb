{
 "cells": [
  {
   "cell_type": "code",
   "execution_count": 1,
   "id": "1044b85f",
   "metadata": {},
   "outputs": [
    {
     "data": {
      "text/plain": [
       "True"
      ]
     },
     "execution_count": 1,
     "metadata": {},
     "output_type": "execute_result"
    }
   ],
   "source": [
    "set1={\"apple\",\"banana\",\"cherry\",\"orange\",\"kiwi\"}\n",
    "\"apple\" in set1"
   ]
  },
  {
   "cell_type": "code",
   "execution_count": 2,
   "id": "71b9f139",
   "metadata": {},
   "outputs": [
    {
     "data": {
      "text/plain": [
       "True"
      ]
     },
     "execution_count": 2,
     "metadata": {},
     "output_type": "execute_result"
    }
   ],
   "source": [
    "#universal set\n",
    "set2={1,2,3,4,5,6,7,8,9,10}\n",
    "set3={3,4,5}\n",
    "set4=(3,4,5)\n",
    "set5={6,7,8,9}\n",
    "\n",
    "#subset t said to be subset of s if every element of t is also in s\n",
    "#is subset used to check\n",
    "set3.issubset(set4)\n"
   ]
  },
  {
   "cell_type": "code",
   "execution_count": 3,
   "id": "cdbecfa9",
   "metadata": {},
   "outputs": [
    {
     "data": {
      "text/plain": [
       "True"
      ]
     },
     "execution_count": 3,
     "metadata": {},
     "output_type": "execute_result"
    }
   ],
   "source": [
    "set5<=set2"
   ]
  },
  {
   "cell_type": "code",
   "execution_count": 11,
   "id": "d4109289",
   "metadata": {},
   "outputs": [
    {
     "data": {
      "text/plain": [
       "True"
      ]
     },
     "execution_count": 11,
     "metadata": {},
     "output_type": "execute_result"
    }
   ],
   "source": [
    "set3<set5\n",
    "set3<set2"
   ]
  },
  {
   "cell_type": "code",
   "execution_count": null,
   "id": "8b0d1352",
   "metadata": {},
   "outputs": [],
   "source": [
    "#supersets\n",
    "#inverse of subset"
   ]
  },
  {
   "cell_type": "code",
   "execution_count": 12,
   "id": "af0da91e",
   "metadata": {},
   "outputs": [
    {
     "data": {
      "text/plain": [
       "True"
      ]
     },
     "execution_count": 12,
     "metadata": {},
     "output_type": "execute_result"
    }
   ],
   "source": [
    "#is superset method\n",
    "set2.issuperset(set3)"
   ]
  },
  {
   "cell_type": "code",
   "execution_count": 13,
   "id": "9c43acb6",
   "metadata": {},
   "outputs": [
    {
     "data": {
      "text/plain": [
       "True"
      ]
     },
     "execution_count": 13,
     "metadata": {},
     "output_type": "execute_result"
    }
   ],
   "source": [
    "#cheki if proper superset\n",
    "set2>set5"
   ]
  },
  {
   "cell_type": "code",
   "execution_count": 14,
   "id": "8007a1db",
   "metadata": {},
   "outputs": [
    {
     "data": {
      "text/plain": [
       "{1, 2, 3, 4, 5, 6, 7, 8, 9, 10}"
      ]
     },
     "execution_count": 14,
     "metadata": {},
     "output_type": "execute_result"
    }
   ],
   "source": [
    "#set operations\n",
    "set6={1,2,3,4,5,6,7,8,9,10}\n",
    "#use intersection method\n",
    "set2.intersection(set6)"
   ]
  },
  {
   "cell_type": "code",
   "execution_count": null,
   "id": "6140a2e5",
   "metadata": {},
   "outputs": [
    {
     "data": {
      "text/plain": [
       "{1, 2, 3, 4, 5, 6, 7, 8, 9, 10}"
      ]
     },
     "execution_count": 15,
     "metadata": {},
     "output_type": "execute_result"
    }
   ],
   "source": [
    "set2 & set6"
   ]
  },
  {
   "cell_type": "code",
   "execution_count": 16,
   "id": "9c8dc1bb",
   "metadata": {},
   "outputs": [
    {
     "data": {
      "text/plain": [
       "{1, 2, 3, 4, 5, 6, 7, 8, 9, 10}"
      ]
     },
     "execution_count": 16,
     "metadata": {},
     "output_type": "execute_result"
    }
   ],
   "source": [
    "#use union method\n",
    "set2.union(set6)"
   ]
  },
  {
   "cell_type": "code",
   "execution_count": 17,
   "id": "3d7feb96",
   "metadata": {},
   "outputs": [
    {
     "data": {
      "text/plain": [
       "{1, 2, 3, 4, 5, 6, 7, 8, 9, 10}"
      ]
     },
     "execution_count": 17,
     "metadata": {},
     "output_type": "execute_result"
    }
   ],
   "source": [
    "set2 | set6"
   ]
  },
  {
   "cell_type": "code",
   "execution_count": null,
   "id": "069986e5",
   "metadata": {},
   "outputs": [
    {
     "data": {
      "text/plain": [
       "set()"
      ]
     },
     "execution_count": 18,
     "metadata": {},
     "output_type": "execute_result"
    }
   ],
   "source": [
    "#relative complement / difference\n",
    "#elements that arent in that set\n",
    "#relative complement of s in t\n",
    "#use operator -\n",
    "set2-set6\n",
    "#the complement of set means elements not in the set"
   ]
  },
  {
   "cell_type": "code",
   "execution_count": 19,
   "id": "725bee36",
   "metadata": {},
   "outputs": [
    {
     "data": {
      "text/plain": [
       "set()"
      ]
     },
     "execution_count": 19,
     "metadata": {},
     "output_type": "execute_result"
    }
   ],
   "source": [
    "#use difference method\n",
    "set2.difference(set6)"
   ]
  },
  {
   "cell_type": "code",
   "execution_count": null,
   "id": "dc870423",
   "metadata": {},
   "outputs": [],
   "source": [
    "#absolute complement"
   ]
  },
  {
   "cell_type": "code",
   "execution_count": 20,
   "id": "33bd4172",
   "metadata": {},
   "outputs": [
    {
     "data": {
      "text/plain": [
       "10"
      ]
     },
     "execution_count": 20,
     "metadata": {},
     "output_type": "execute_result"
    }
   ],
   "source": [
    "#additional attributes and methods\n",
    "#cardinal -no of elements in set\n",
    "len(set2)\n"
   ]
  },
  {
   "cell_type": "code",
   "execution_count": 24,
   "id": "6b7ec3e6",
   "metadata": {},
   "outputs": [
    {
     "ename": "SyntaxError",
     "evalue": "invalid syntax (2649931627.py, line 1)",
     "output_type": "error",
     "traceback": [
      "  \u001b[36mCell\u001b[39m\u001b[36m \u001b[39m\u001b[32mIn[24]\u001b[39m\u001b[32m, line 1\u001b[39m\n\u001b[31m    \u001b[39m\u001b[31m|set2 |\u001b[39m\n    ^\n\u001b[31mSyntaxError\u001b[39m\u001b[31m:\u001b[39m invalid syntax\n"
     ]
    }
   ],
   "source": [
    "|set2 | "
   ]
  },
  {
   "cell_type": "code",
   "execution_count": 23,
   "id": "fb168c26",
   "metadata": {},
   "outputs": [
    {
     "name": "stdout",
     "output_type": "stream",
     "text": [
      "10\n"
     ]
    }
   ],
   "source": [
    "#inclusion /exclusion principle\n",
    "print(len(set2.union(set6)))"
   ]
  },
  {
   "cell_type": "code",
   "execution_count": null,
   "id": "49de5ee2",
   "metadata": {},
   "outputs": [],
   "source": [
    "#probability\n",
    "#event occuring\n",
    "#experiment -outcome of a particular experiment\n",
    "#samplespace -represents the universal of all possible outcomes\n",
    "#eventspace -is a subset of the samplespace"
   ]
  },
  {
   "cell_type": "code",
   "execution_count": null,
   "id": "142e82ed",
   "metadata": {},
   "outputs": [],
   "source": [
    "set7={1,2,3,4,5,6}\n",
    "  "
   ]
  }
 ],
 "metadata": {
  "kernelspec": {
   "display_name": "MyvitualEnvironment",
   "language": "python",
   "name": "python3"
  },
  "language_info": {
   "codemirror_mode": {
    "name": "ipython",
    "version": 3
   },
   "file_extension": ".py",
   "mimetype": "text/x-python",
   "name": "python",
   "nbconvert_exporter": "python",
   "pygments_lexer": "ipython3",
   "version": "3.12.10"
  }
 },
 "nbformat": 4,
 "nbformat_minor": 5
}
