{
 "cells": [
  {
   "cell_type": "code",
   "execution_count": 1,
   "id": "d4a4a505",
   "metadata": {},
   "outputs": [],
   "source": [
    "# Import necessary libraries\n",
    "import numpy as np\n",
    "import pandas as pd\n",
    "from scipy import stats\n",
    "import seaborn as sns\n",
    "import matplotlib.pyplot as plt\n",
    "import math\n",
    "\n",
    "# Plot styles\n",
    "plt.style.use('fivethirtyeight')\n",
    "\n",
    "%matplotlib inline\n",
    "\n",
    "np.random.seed(15)\n",
    "\n",
    "population_ages1 = stats.poisson.rvs(loc=18, mu=35, size=150000)\n",
    "population_ages2 = stats.poisson.rvs(loc=18, mu=10, size=100000)\n",
    "\n",
    "population_ages = np.concatenate((population_ages1, population_ages2))\n"
   ]
  },
  {
   "cell_type": "code",
   "execution_count": 2,
   "id": "91f5e328",
   "metadata": {},
   "outputs": [
    {
     "data": {
      "application/vnd.microsoft.datawrangler.viewer.v0+json": {
       "columns": [
        {
         "name": "index",
         "rawType": "int64",
         "type": "integer"
        },
        {
         "name": "0",
         "rawType": "int64",
         "type": "integer"
        }
       ],
       "ref": "124266c3-7b7d-4b75-a77c-96ded3356bad",
       "rows": [
        [
         "0",
         "60"
        ],
        [
         "1",
         "40"
        ],
        [
         "2",
         "49"
        ],
        [
         "3",
         "49"
        ],
        [
         "4",
         "44"
        ],
        [
         "5",
         "63"
        ],
        [
         "6",
         "59"
        ],
        [
         "7",
         "46"
        ],
        [
         "8",
         "38"
        ],
        [
         "9",
         "58"
        ],
        [
         "10",
         "53"
        ],
        [
         "11",
         "44"
        ],
        [
         "12",
         "46"
        ],
        [
         "13",
         "49"
        ],
        [
         "14",
         "56"
        ],
        [
         "15",
         "55"
        ],
        [
         "16",
         "52"
        ],
        [
         "17",
         "51"
        ],
        [
         "18",
         "43"
        ],
        [
         "19",
         "43"
        ],
        [
         "20",
         "45"
        ],
        [
         "21",
         "55"
        ],
        [
         "22",
         "47"
        ],
        [
         "23",
         "50"
        ],
        [
         "24",
         "59"
        ],
        [
         "25",
         "49"
        ],
        [
         "26",
         "51"
        ],
        [
         "27",
         "57"
        ],
        [
         "28",
         "53"
        ],
        [
         "29",
         "52"
        ],
        [
         "30",
         "59"
        ],
        [
         "31",
         "61"
        ],
        [
         "32",
         "44"
        ],
        [
         "33",
         "63"
        ],
        [
         "34",
         "48"
        ],
        [
         "35",
         "63"
        ],
        [
         "36",
         "45"
        ],
        [
         "37",
         "49"
        ],
        [
         "38",
         "57"
        ],
        [
         "39",
         "55"
        ],
        [
         "40",
         "63"
        ],
        [
         "41",
         "52"
        ],
        [
         "42",
         "54"
        ],
        [
         "43",
         "47"
        ],
        [
         "44",
         "64"
        ],
        [
         "45",
         "55"
        ],
        [
         "46",
         "56"
        ],
        [
         "47",
         "45"
        ],
        [
         "48",
         "56"
        ],
        [
         "49",
         "65"
        ]
       ],
       "shape": {
        "columns": 1,
        "rows": 250000
       }
      },
      "text/html": [
       "<div>\n",
       "<style scoped>\n",
       "    .dataframe tbody tr th:only-of-type {\n",
       "        vertical-align: middle;\n",
       "    }\n",
       "\n",
       "    .dataframe tbody tr th {\n",
       "        vertical-align: top;\n",
       "    }\n",
       "\n",
       "    .dataframe thead th {\n",
       "        text-align: right;\n",
       "    }\n",
       "</style>\n",
       "<table border=\"1\" class=\"dataframe\">\n",
       "  <thead>\n",
       "    <tr style=\"text-align: right;\">\n",
       "      <th></th>\n",
       "      <th>0</th>\n",
       "    </tr>\n",
       "  </thead>\n",
       "  <tbody>\n",
       "    <tr>\n",
       "      <th>0</th>\n",
       "      <td>60</td>\n",
       "    </tr>\n",
       "    <tr>\n",
       "      <th>1</th>\n",
       "      <td>40</td>\n",
       "    </tr>\n",
       "    <tr>\n",
       "      <th>2</th>\n",
       "      <td>49</td>\n",
       "    </tr>\n",
       "    <tr>\n",
       "      <th>3</th>\n",
       "      <td>49</td>\n",
       "    </tr>\n",
       "    <tr>\n",
       "      <th>4</th>\n",
       "      <td>44</td>\n",
       "    </tr>\n",
       "    <tr>\n",
       "      <th>...</th>\n",
       "      <td>...</td>\n",
       "    </tr>\n",
       "    <tr>\n",
       "      <th>249995</th>\n",
       "      <td>25</td>\n",
       "    </tr>\n",
       "    <tr>\n",
       "      <th>249996</th>\n",
       "      <td>29</td>\n",
       "    </tr>\n",
       "    <tr>\n",
       "      <th>249997</th>\n",
       "      <td>24</td>\n",
       "    </tr>\n",
       "    <tr>\n",
       "      <th>249998</th>\n",
       "      <td>28</td>\n",
       "    </tr>\n",
       "    <tr>\n",
       "      <th>249999</th>\n",
       "      <td>31</td>\n",
       "    </tr>\n",
       "  </tbody>\n",
       "</table>\n",
       "<p>250000 rows × 1 columns</p>\n",
       "</div>"
      ],
      "text/plain": [
       "         0\n",
       "0       60\n",
       "1       40\n",
       "2       49\n",
       "3       49\n",
       "4       44\n",
       "...     ..\n",
       "249995  25\n",
       "249996  29\n",
       "249997  24\n",
       "249998  28\n",
       "249999  31\n",
       "\n",
       "[250000 rows x 1 columns]"
      ]
     },
     "execution_count": 2,
     "metadata": {},
     "output_type": "execute_result"
    }
   ],
   "source": [
    "popages=pd.DataFrame(population_ages)\n",
    "popages"
   ]
  },
  {
   "cell_type": "code",
   "execution_count": 3,
   "id": "81c9a83e",
   "metadata": {},
   "outputs": [
    {
     "data": {
      "text/plain": [
       "(array([1.2884e+04, 7.3599e+04, 1.3532e+04, 1.0686e+04, 4.1189e+04,\n",
       "        6.5358e+04, 2.8330e+04, 4.0270e+03, 3.7700e+02, 1.8000e+01]),\n",
       " array([18. , 24.6, 31.2, 37.8, 44.4, 51. , 57.6, 64.2, 70.8, 77.4, 84. ]),\n",
       " <BarContainer object of 10 artists>)"
      ]
     },
     "execution_count": 3,
     "metadata": {},
     "output_type": "execute_result"
    },
    {
     "data": {
      "image/png": "[encoded data removed]",
      "text/plain": [
       "<Figure size 640x480 with 1 Axes>"
      ]
     },
     "metadata": {},
     "output_type": "display_data"
    }
   ],
   "source": [
    "plt.hist(popages)"
   ]
  },
  {
   "cell_type": "code",
   "execution_count": 4,
   "id": "9a631588",
   "metadata": {},
   "outputs": [
    {
     "name": "stdout",
     "output_type": "stream",
     "text": [
      "0    41.832\n",
      "dtype: float64\n",
      "0    13.163218\n",
      "dtype: float64\n"
     ]
    }
   ],
   "source": [
    "sample=popages.sample(n=500, random_state=5)\n",
    "print(sample.mean())\n",
    "print(sample.std())"
   ]
  },
  {
   "cell_type": "code",
   "execution_count": 5,
   "id": "e3d46ce8",
   "metadata": {},
   "outputs": [
    {
     "data": {
      "text/plain": [
       "array([ 66. ,  36. ,  73. ,  48. ,  81. ,  69. ,  75. ,  81. ,  73. ,\n",
       "        69.9, 101. ,  70. ])"
      ]
     },
     "execution_count": 5,
     "metadata": {},
     "output_type": "execute_result"
    }
   ],
   "source": [
    "sample_chol_levels=[66.0, 36.0, 73.0, 48.0, 81.0, 69.0, 75.0, 81.0, 73.0,69.9, 101.0, 70.0]\n",
    "chol_levels=np.array(sample_chol_levels)\n",
    "\n",
    "chol_levels\n"
   ]
  },
  {
   "cell_type": "code",
   "execution_count": 6,
   "id": "6bb727c9",
   "metadata": {},
   "outputs": [
    {
     "data": {
      "text/plain": [
       "np.float64(70.24166666666666)"
      ]
     },
     "execution_count": 6,
     "metadata": {},
     "output_type": "execute_result"
    }
   ],
   "source": [
    "chol_levels_mean=np.mean(sample_chol_levels)\n",
    "chol_levels_mean"
   ]
  },
  {
   "cell_type": "code",
   "execution_count": 7,
   "id": "0e9e6850",
   "metadata": {},
   "outputs": [
    {
     "data": {
      "text/plain": [
       "np.float64(16.24334595699999)"
      ]
     },
     "execution_count": 7,
     "metadata": {},
     "output_type": "execute_result"
    }
   ],
   "source": [
    "chol_levels_std=np.std(sample_chol_levels, ddof=1)\n",
    "chol_levels_std"
   ]
  },
  {
   "cell_type": "code",
   "execution_count": 8,
   "id": "e97a7d1e",
   "metadata": {},
   "outputs": [
    {
     "data": {
      "text/plain": [
       "np.float64(4.689050080407082)"
      ]
     },
     "execution_count": 8,
     "metadata": {},
     "output_type": "execute_result"
    }
   ],
   "source": [
    "#standard error\n",
    "chol_levels_se=chol_levels_std/(np.sqrt(len(sample_chol_levels)))\n",
    "chol_levels_se"
   ]
  },
  {
   "cell_type": "code",
   "execution_count": 9,
   "id": "8c279e21",
   "metadata": {},
   "outputs": [
    {
     "data": {
      "text/plain": [
       "(np.float64(59.92113702480491), np.float64(80.5621963085284))"
      ]
     },
     "execution_count": 9,
     "metadata": {},
     "output_type": "execute_result"
    }
   ],
   "source": [
    "#confidence interval\n",
    "ct=stats.t.interval(confidence=0.95, df=len(sample_chol_levels)-1,loc=chol_levels_mean, scale=chol_levels_se)\n",
    "ct"
   ]
  },
  {
   "cell_type": "code",
   "execution_count": 10,
   "id": "36f82bb9",
   "metadata": {},
   "outputs": [
    {
     "data": {
      "text/plain": [
       "array([56.2, 61. , 55. , 81. , 73. , 69. , 66. , 72.5, 60. ])"
      ]
     },
     "execution_count": 10,
     "metadata": {},
     "output_type": "execute_result"
    }
   ],
   "source": [
    "#weight of people. 10 values between 55 and 75\n",
    "sample_weights=[56.2, 61.0, 55.0, 81.0, 73.0, 69.0, 66.0, 72.5 ,60.0]\n",
    "weights=np.array(sample_weights)\n",
    "weights"
   ]
  },
  {
   "cell_type": "code",
   "execution_count": 11,
   "id": "994ab63e",
   "metadata": {},
   "outputs": [
    {
     "data": {
      "text/plain": [
       "np.float64(65.96666666666667)"
      ]
     },
     "execution_count": 11,
     "metadata": {},
     "output_type": "execute_result"
    }
   ],
   "source": [
    "#sample mean\n",
    "sample_weights_mean=np.mean(sample_weights)\n",
    "sample_weights_mean"
   ]
  },
  {
   "cell_type": "code",
   "execution_count": 12,
   "id": "abe6c728",
   "metadata": {},
   "outputs": [
    {
     "data": {
      "text/plain": [
       "np.float64(65.96666666666667)"
      ]
     },
     "execution_count": 12,
     "metadata": {},
     "output_type": "execute_result"
    }
   ],
   "source": [
    "weights.mean()"
   ]
  },
  {
   "cell_type": "code",
   "execution_count": 13,
   "id": "79f36dfa",
   "metadata": {},
   "outputs": [
    {
     "data": {
      "text/plain": [
       "np.float64(8.683893136145791)"
      ]
     },
     "execution_count": 13,
     "metadata": {},
     "output_type": "execute_result"
    }
   ],
   "source": [
    "#standard deviation\n",
    "sample_weights_std=np.std(sample_weights, ddof=1)\n",
    "sample_weights_std\n"
   ]
  },
  {
   "cell_type": "code",
   "execution_count": 14,
   "id": "09751bcb",
   "metadata": {},
   "outputs": [
    {
     "data": {
      "text/plain": [
       "np.float64(2.89463104538193)"
      ]
     },
     "execution_count": 14,
     "metadata": {},
     "output_type": "execute_result"
    }
   ],
   "source": [
    "#standard error\n",
    "sample_weights_se=sample_weights_std/(np.sqrt(len(sample_weights)))\n",
    "sample_weights_se"
   ]
  },
  {
   "cell_type": "code",
   "execution_count": 15,
   "id": "80cfe4b0",
   "metadata": {},
   "outputs": [
    {
     "data": {
      "text/plain": [
       "(np.float64(59.29163550612558), np.float64(72.64169782720776))"
      ]
     },
     "execution_count": 15,
     "metadata": {},
     "output_type": "execute_result"
    }
   ],
   "source": [
    "#confidence interval\n",
    "confidenceweight=stats.t.interval(confidence=0.95, df=len(sample_weights)-1, loc=sample_weights_mean, scale=sample_weights_se)\n",
    "confidenceweight"
   ]
  },
  {
   "cell_type": "code",
   "execution_count": 16,
   "id": "40c0848a",
   "metadata": {},
   "outputs": [
    {
     "data": {
      "application/vnd.microsoft.datawrangler.viewer.v0+json": {
       "columns": [
        {
         "name": "index",
         "rawType": "int64",
         "type": "integer"
        },
        {
         "name": "PassengerId",
         "rawType": "int64",
         "type": "integer"
        },
        {
         "name": "Survived",
         "rawType": "int64",
         "type": "integer"
        },
        {
         "name": "Pclass",
         "rawType": "int64",
         "type": "integer"
        },
        {
         "name": "Name",
         "rawType": "object",
         "type": "string"
        },
        {
         "name": "Sex",
         "rawType": "object",
         "type": "string"
        },
        {
         "name": "Age",
         "rawType": "float64",
         "type": "float"
        },
        {
         "name": "SibSp",
         "rawType": "int64",
         "type": "integer"
        },
        {
         "name": "Parch",
         "rawType": "int64",
         "type": "integer"
        },
        {
         "name": "Ticket",
         "rawType": "object",
         "type": "string"
        },
        {
         "name": "Fare",
         "rawType": "float64",
         "type": "float"
        },
        {
         "name": "Cabin",
         "rawType": "object",
         "type": "unknown"
        },
        {
         "name": "Embarked",
         "rawType": "object",
         "type": "string"
        }
       ],
       "ref": "4569a99f-4532-46f9-9ff1-4ef3d5591c0b",
       "rows": [
        [
         "0",
         "892",
         "0",
         "3",
         "Kelly, Mr. James",
         "male",
         "34.5",
         "0",
         "0",
         "330911",
         "7.8292",
         null,
         "Q"
        ],
        [
         "1",
         "893",
         "1",
         "3",
         "Wilkes, Mrs. James (Ellen Needs)",
         "female",
         "47.0",
         "1",
         "0",
         "363272",
         "7.0",
         null,
         "S"
        ],
        [
         "2",
         "894",
         "0",
         "2",
         "Myles, Mr. Thomas Francis",
         "male",
         "62.0",
         "0",
         "0",
         "240276",
         "9.6875",
         null,
         "Q"
        ],
        [
         "3",
         "895",
         "0",
         "3",
         "Wirz, Mr. Albert",
         "male",
         "27.0",
         "0",
         "0",
         "315154",
         "8.6625",
         null,
         "S"
        ],
        [
         "4",
         "896",
         "1",
         "3",
         "Hirvonen, Mrs. Alexander (Helga E Lindqvist)",
         "female",
         "22.0",
         "1",
         "1",
         "3101298",
         "12.2875",
         null,
         "S"
        ]
       ],
       "shape": {
        "columns": 12,
        "rows": 5
       }
      },
      "text/html": [
       "<div>\n",
       "<style scoped>\n",
       "    .dataframe tbody tr th:only-of-type {\n",
       "        vertical-align: middle;\n",
       "    }\n",
       "\n",
       "    .dataframe tbody tr th {\n",
       "        vertical-align: top;\n",
       "    }\n",
       "\n",
       "    .dataframe thead th {\n",
       "        text-align: right;\n",
       "    }\n",
       "</style>\n",
       "<table border=\"1\" class=\"dataframe\">\n",
       "  <thead>\n",
       "    <tr style=\"text-align: right;\">\n",
       "      <th></th>\n",
       "      <th>PassengerId</th>\n",
       "      <th>Survived</th>\n",
       "      <th>Pclass</th>\n",
       "      <th>Name</th>\n",
       "      <th>Sex</th>\n",
       "      <th>Age</th>\n",
       "      <th>SibSp</th>\n",
       "      <th>Parch</th>\n",
       "      <th>Ticket</th>\n",
       "      <th>Fare</th>\n",
       "      <th>Cabin</th>\n",
       "      <th>Embarked</th>\n",
       "    </tr>\n",
       "  </thead>\n",
       "  <tbody>\n",
       "    <tr>\n",
       "      <th>0</th>\n",
       "      <td>892</td>\n",
       "      <td>0</td>\n",
       "      <td>3</td>\n",
       "      <td>Kelly, Mr. James</td>\n",
       "      <td>male</td>\n",
       "      <td>34.5</td>\n",
       "      <td>0</td>\n",
       "      <td>0</td>\n",
       "      <td>330911</td>\n",
       "      <td>7.8292</td>\n",
       "      <td>NaN</td>\n",
       "      <td>Q</td>\n",
       "    </tr>\n",
       "    <tr>\n",
       "      <th>1</th>\n",
       "      <td>893</td>\n",
       "      <td>1</td>\n",
       "      <td>3</td>\n",
       "      <td>Wilkes, Mrs. James (Ellen Needs)</td>\n",
       "      <td>female</td>\n",
       "      <td>47.0</td>\n",
       "      <td>1</td>\n",
       "      <td>0</td>\n",
       "      <td>363272</td>\n",
       "      <td>7.0000</td>\n",
       "      <td>NaN</td>\n",
       "      <td>S</td>\n",
       "    </tr>\n",
       "    <tr>\n",
       "      <th>2</th>\n",
       "      <td>894</td>\n",
       "      <td>0</td>\n",
       "      <td>2</td>\n",
       "      <td>Myles, Mr. Thomas Francis</td>\n",
       "      <td>male</td>\n",
       "      <td>62.0</td>\n",
       "      <td>0</td>\n",
       "      <td>0</td>\n",
       "      <td>240276</td>\n",
       "      <td>9.6875</td>\n",
       "      <td>NaN</td>\n",
       "      <td>Q</td>\n",
       "    </tr>\n",
       "    <tr>\n",
       "      <th>3</th>\n",
       "      <td>895</td>\n",
       "      <td>0</td>\n",
       "      <td>3</td>\n",
       "      <td>Wirz, Mr. Albert</td>\n",
       "      <td>male</td>\n",
       "      <td>27.0</td>\n",
       "      <td>0</td>\n",
       "      <td>0</td>\n",
       "      <td>315154</td>\n",
       "      <td>8.6625</td>\n",
       "      <td>NaN</td>\n",
       "      <td>S</td>\n",
       "    </tr>\n",
       "    <tr>\n",
       "      <th>4</th>\n",
       "      <td>896</td>\n",
       "      <td>1</td>\n",
       "      <td>3</td>\n",
       "      <td>Hirvonen, Mrs. Alexander (Helga E Lindqvist)</td>\n",
       "      <td>female</td>\n",
       "      <td>22.0</td>\n",
       "      <td>1</td>\n",
       "      <td>1</td>\n",
       "      <td>3101298</td>\n",
       "      <td>12.2875</td>\n",
       "      <td>NaN</td>\n",
       "      <td>S</td>\n",
       "    </tr>\n",
       "  </tbody>\n",
       "</table>\n",
       "</div>"
      ],
      "text/plain": [
       "   PassengerId  Survived  Pclass  \\\n",
       "0          892         0       3   \n",
       "1          893         1       3   \n",
       "2          894         0       2   \n",
       "3          895         0       3   \n",
       "4          896         1       3   \n",
       "\n",
       "                                           Name     Sex   Age  SibSp  Parch  \\\n",
       "0                              Kelly, Mr. James    male  34.5      0      0   \n",
       "1              Wilkes, Mrs. James (Ellen Needs)  female  47.0      1      0   \n",
       "2                     Myles, Mr. Thomas Francis    male  62.0      0      0   \n",
       "3                              Wirz, Mr. Albert    male  27.0      0      0   \n",
       "4  Hirvonen, Mrs. Alexander (Helga E Lindqvist)  female  22.0      1      1   \n",
       "\n",
       "    Ticket     Fare Cabin Embarked  \n",
       "0   330911   7.8292   NaN        Q  \n",
       "1   363272   7.0000   NaN        S  \n",
       "2   240276   9.6875   NaN        Q  \n",
       "3   315154   8.6625   NaN        S  \n",
       "4  3101298  12.2875   NaN        S  "
      ]
     },
     "execution_count": 16,
     "metadata": {},
     "output_type": "execute_result"
    }
   ],
   "source": [
    "df=pd.read_csv(\"tested.csv\")\n",
    "df.head()"
   ]
  },
  {
   "cell_type": "code",
   "execution_count": 17,
   "id": "99ffef5d",
   "metadata": {},
   "outputs": [
    {
     "name": "stdout",
     "output_type": "stream",
     "text": [
      "<class 'pandas.core.frame.DataFrame'>\n",
      "RangeIndex: 418 entries, 0 to 417\n",
      "Data columns (total 12 columns):\n",
      " #   Column       Non-Null Count  Dtype  \n",
      "---  ------       --------------  -----  \n",
      " 0   PassengerId  418 non-null    int64  \n",
      " 1   Survived     418 non-null    int64  \n",
      " 2   Pclass       418 non-null    int64  \n",
      " 3   Name         418 non-null    object \n",
      " 4   Sex          418 non-null    object \n",
      " 5   Age          332 non-null    float64\n",
      " 6   SibSp        418 non-null    int64  \n",
      " 7   Parch        418 non-null    int64  \n",
      " 8   Ticket       418 non-null    object \n",
      " 9   Fare         417 non-null    float64\n",
      " 10  Cabin        91 non-null     object \n",
      " 11  Embarked     418 non-null    object \n",
      "dtypes: float64(2), int64(5), object(5)\n",
      "memory usage: 39.3+ KB\n"
     ]
    }
   ],
   "source": [
    "df.info()"
   ]
  },
  {
   "cell_type": "code",
   "execution_count": 18,
   "id": "9dd5878e",
   "metadata": {},
   "outputs": [
    {
     "data": {
      "application/vnd.microsoft.datawrangler.viewer.v0+json": {
       "columns": [
        {
         "name": "index",
         "rawType": "int64",
         "type": "integer"
        },
        {
         "name": "PassengerId",
         "rawType": "int64",
         "type": "integer"
        },
        {
         "name": "Survived",
         "rawType": "int64",
         "type": "integer"
        },
        {
         "name": "Pclass",
         "rawType": "int64",
         "type": "integer"
        },
        {
         "name": "Name",
         "rawType": "object",
         "type": "string"
        },
        {
         "name": "Sex",
         "rawType": "object",
         "type": "string"
        },
        {
         "name": "Age",
         "rawType": "float64",
         "type": "float"
        },
        {
         "name": "SibSp",
         "rawType": "int64",
         "type": "integer"
        },
        {
         "name": "Parch",
         "rawType": "int64",
         "type": "integer"
        },
        {
         "name": "Ticket",
         "rawType": "object",
         "type": "string"
        },
        {
         "name": "Fare",
         "rawType": "float64",
         "type": "float"
        },
        {
         "name": "Cabin",
         "rawType": "object",
         "type": "unknown"
        },
        {
         "name": "Embarked",
         "rawType": "object",
         "type": "string"
        }
       ],
       "ref": "9e07b43d-2bbb-4958-8d02-1e7f6beaae98",
       "rows": [
        [
         "131",
         "1023",
         "0",
         "1",
         "Gracie, Col. Archibald IV",
         "male",
         "53.0",
         "0",
         "0",
         "113780",
         "28.5",
         "C51",
         "C"
        ],
        [
         "181",
         "1073",
         "0",
         "1",
         "Compton, Mr. Alexander Taylor Jr",
         "male",
         "37.0",
         "1",
         "1",
         "PC 17756",
         "83.1583",
         "E52",
         "C"
        ],
        [
         "306",
         "1198",
         "0",
         "1",
         "Allison, Mr. Hudson Joshua Creighton",
         "male",
         "30.0",
         "1",
         "2",
         "113781",
         "151.55",
         "C22 C26",
         "S"
        ],
        [
         "380",
         "1272",
         "0",
         "3",
         "O'Connor, Mr. Patrick",
         "male",
         null,
         "0",
         "0",
         "366713",
         "7.75",
         null,
         "Q"
        ],
        [
         "263",
         "1155",
         "1",
         "3",
         "Klasen, Miss. Gertrud Emilia",
         "female",
         "1.0",
         "1",
         "1",
         "350405",
         "12.1833",
         null,
         "S"
        ]
       ],
       "shape": {
        "columns": 12,
        "rows": 5
       }
      },
      "text/html": [
       "<div>\n",
       "<style scoped>\n",
       "    .dataframe tbody tr th:only-of-type {\n",
       "        vertical-align: middle;\n",
       "    }\n",
       "\n",
       "    .dataframe tbody tr th {\n",
       "        vertical-align: top;\n",
       "    }\n",
       "\n",
       "    .dataframe thead th {\n",
       "        text-align: right;\n",
       "    }\n",
       "</style>\n",
       "<table border=\"1\" class=\"dataframe\">\n",
       "  <thead>\n",
       "    <tr style=\"text-align: right;\">\n",
       "      <th></th>\n",
       "      <th>PassengerId</th>\n",
       "      <th>Survived</th>\n",
       "      <th>Pclass</th>\n",
       "      <th>Name</th>\n",
       "      <th>Sex</th>\n",
       "      <th>Age</th>\n",
       "      <th>SibSp</th>\n",
       "      <th>Parch</th>\n",
       "      <th>Ticket</th>\n",
       "      <th>Fare</th>\n",
       "      <th>Cabin</th>\n",
       "      <th>Embarked</th>\n",
       "    </tr>\n",
       "  </thead>\n",
       "  <tbody>\n",
       "    <tr>\n",
       "      <th>131</th>\n",
       "      <td>1023</td>\n",
       "      <td>0</td>\n",
       "      <td>1</td>\n",
       "      <td>Gracie, Col. Archibald IV</td>\n",
       "      <td>male</td>\n",
       "      <td>53.0</td>\n",
       "      <td>0</td>\n",
       "      <td>0</td>\n",
       "      <td>113780</td>\n",
       "      <td>28.5000</td>\n",
       "      <td>C51</td>\n",
       "      <td>C</td>\n",
       "    </tr>\n",
       "    <tr>\n",
       "      <th>181</th>\n",
       "      <td>1073</td>\n",
       "      <td>0</td>\n",
       "      <td>1</td>\n",
       "      <td>Compton, Mr. Alexander Taylor Jr</td>\n",
       "      <td>male</td>\n",
       "      <td>37.0</td>\n",
       "      <td>1</td>\n",
       "      <td>1</td>\n",
       "      <td>PC 17756</td>\n",
       "      <td>83.1583</td>\n",
       "      <td>E52</td>\n",
       "      <td>C</td>\n",
       "    </tr>\n",
       "    <tr>\n",
       "      <th>306</th>\n",
       "      <td>1198</td>\n",
       "      <td>0</td>\n",
       "      <td>1</td>\n",
       "      <td>Allison, Mr. Hudson Joshua Creighton</td>\n",
       "      <td>male</td>\n",
       "      <td>30.0</td>\n",
       "      <td>1</td>\n",
       "      <td>2</td>\n",
       "      <td>113781</td>\n",
       "      <td>151.5500</td>\n",
       "      <td>C22 C26</td>\n",
       "      <td>S</td>\n",
       "    </tr>\n",
       "    <tr>\n",
       "      <th>380</th>\n",
       "      <td>1272</td>\n",
       "      <td>0</td>\n",
       "      <td>3</td>\n",
       "      <td>O'Connor, Mr. Patrick</td>\n",
       "      <td>male</td>\n",
       "      <td>NaN</td>\n",
       "      <td>0</td>\n",
       "      <td>0</td>\n",
       "      <td>366713</td>\n",
       "      <td>7.7500</td>\n",
       "      <td>NaN</td>\n",
       "      <td>Q</td>\n",
       "    </tr>\n",
       "    <tr>\n",
       "      <th>263</th>\n",
       "      <td>1155</td>\n",
       "      <td>1</td>\n",
       "      <td>3</td>\n",
       "      <td>Klasen, Miss. Gertrud Emilia</td>\n",
       "      <td>female</td>\n",
       "      <td>1.0</td>\n",
       "      <td>1</td>\n",
       "      <td>1</td>\n",
       "      <td>350405</td>\n",
       "      <td>12.1833</td>\n",
       "      <td>NaN</td>\n",
       "      <td>S</td>\n",
       "    </tr>\n",
       "  </tbody>\n",
       "</table>\n",
       "</div>"
      ],
      "text/plain": [
       "     PassengerId  Survived  Pclass                                  Name  \\\n",
       "131         1023         0       1             Gracie, Col. Archibald IV   \n",
       "181         1073         0       1      Compton, Mr. Alexander Taylor Jr   \n",
       "306         1198         0       1  Allison, Mr. Hudson Joshua Creighton   \n",
       "380         1272         0       3                 O'Connor, Mr. Patrick   \n",
       "263         1155         1       3          Klasen, Miss. Gertrud Emilia   \n",
       "\n",
       "        Sex   Age  SibSp  Parch    Ticket      Fare    Cabin Embarked  \n",
       "131    male  53.0      0      0    113780   28.5000      C51        C  \n",
       "181    male  37.0      1      1  PC 17756   83.1583      E52        C  \n",
       "306    male  30.0      1      2    113781  151.5500  C22 C26        S  \n",
       "380    male   NaN      0      0    366713    7.7500      NaN        Q  \n",
       "263  female   1.0      1      1    350405   12.1833      NaN        S  "
      ]
     },
     "execution_count": 18,
     "metadata": {},
     "output_type": "execute_result"
    }
   ],
   "source": [
    "sample_df=df.sample(n=100 ,random_state=34)\n",
    "sample_df.head()"
   ]
  },
  {
   "cell_type": "code",
   "execution_count": 19,
   "id": "0f15f8b0",
   "metadata": {},
   "outputs": [
    {
     "data": {
      "text/plain": [
       "<bound method DataFrame.info of      PassengerId  Survived  Pclass                                      Name  \\\n",
       "131         1023         0       1                 Gracie, Col. Archibald IV   \n",
       "181         1073         0       1          Compton, Mr. Alexander Taylor Jr   \n",
       "306         1198         0       1      Allison, Mr. Hudson Joshua Creighton   \n",
       "380         1272         0       3                     O'Connor, Mr. Patrick   \n",
       "263         1155         1       3              Klasen, Miss. Gertrud Emilia   \n",
       "..           ...       ...     ...                                       ...   \n",
       "26           918         1       1              Ostby, Miss. Helene Ragnhild   \n",
       "210         1102         0       3               Andersen, Mr. Albert Karvin   \n",
       "251         1143         0       3  Abrahamsson, Mr. Abraham August Johannes   \n",
       "32           924         1       3  Dean, Mrs. Bertram (Eva Georgetta Light)   \n",
       "142         1034         0       1                Ryerson, Mr. Arthur Larned   \n",
       "\n",
       "        Sex   Age  SibSp  Parch            Ticket      Fare            Cabin  \\\n",
       "131    male  53.0      0      0            113780   28.5000              C51   \n",
       "181    male  37.0      1      1          PC 17756   83.1583              E52   \n",
       "306    male  30.0      1      2            113781  151.5500          C22 C26   \n",
       "380    male  28.0      0      0            366713    7.7500              NaN   \n",
       "263  female   1.0      1      1            350405   12.1833              NaN   \n",
       "..      ...   ...    ...    ...               ...       ...              ...   \n",
       "26   female  22.0      0      1            113509   61.9792              B36   \n",
       "210    male  32.0      0      0            C 4001   22.5250              NaN   \n",
       "251    male  20.0      0      0  SOTON/O2 3101284    7.9250              NaN   \n",
       "32   female  33.0      1      2         C.A. 2315   20.5750              NaN   \n",
       "142    male  61.0      1      3          PC 17608  262.3750  B57 B59 B63 B66   \n",
       "\n",
       "    Embarked  \n",
       "131        C  \n",
       "181        C  \n",
       "306        S  \n",
       "380        Q  \n",
       "263        S  \n",
       "..       ...  \n",
       "26         C  \n",
       "210        S  \n",
       "251        S  \n",
       "32         S  \n",
       "142        C  \n",
       "\n",
       "[100 rows x 12 columns]>"
      ]
     },
     "execution_count": 19,
     "metadata": {},
     "output_type": "execute_result"
    }
   ],
   "source": [
    "sample_df['Age']=sample_df['Age'].fillna(sample_df['Age'].median())\n",
    "sample_df.info"
   ]
  },
  {
   "cell_type": "code",
   "execution_count": 20,
   "id": "b69d851c",
   "metadata": {},
   "outputs": [],
   "source": [
    "age=sample_df['Age']"
   ]
  },
  {
   "cell_type": "code",
   "execution_count": 21,
   "id": "578c3853",
   "metadata": {},
   "outputs": [
    {
     "data": {
      "text/plain": [
       "np.float64(30.272590361445783)"
      ]
     },
     "execution_count": 21,
     "metadata": {},
     "output_type": "execute_result"
    }
   ],
   "source": [
    "#population mean\n",
    "mu=df['Age'].mean()\n",
    "mu"
   ]
  },
  {
   "cell_type": "code",
   "execution_count": 22,
   "id": "7a39d5d8",
   "metadata": {},
   "outputs": [
    {
     "data": {
      "text/plain": [
       "np.float64(30.6992)"
      ]
     },
     "execution_count": 22,
     "metadata": {},
     "output_type": "execute_result"
    }
   ],
   "source": [
    "xbar=age.mean()\n",
    "xbar"
   ]
  },
  {
   "cell_type": "code",
   "execution_count": 23,
   "id": "3ffef3d2",
   "metadata": {},
   "outputs": [
    {
     "data": {
      "text/plain": [
       "np.float64(13.329074447093527)"
      ]
     },
     "execution_count": 23,
     "metadata": {},
     "output_type": "execute_result"
    }
   ],
   "source": [
    "sd=np.std(age,ddof=1)\n",
    "sd"
   ]
  },
  {
   "cell_type": "code",
   "execution_count": 24,
   "id": "1cbbd180",
   "metadata": {},
   "outputs": [
    {
     "data": {
      "text/plain": [
       "np.float64(1.3329074447093527)"
      ]
     },
     "execution_count": 24,
     "metadata": {},
     "output_type": "execute_result"
    }
   ],
   "source": [
    "se=sd/(np.sqrt(len(age)))\n",
    "se"
   ]
  },
  {
   "cell_type": "code",
   "execution_count": 25,
   "id": "13cbf56f",
   "metadata": {},
   "outputs": [
    {
     "data": {
      "text/plain": [
       "(np.float64(28.054422453415583), np.float64(33.34397754658442))"
      ]
     },
     "execution_count": 25,
     "metadata": {},
     "output_type": "execute_result"
    }
   ],
   "source": [
    "age_confidence_interval=stats.t.interval(confidence=0.95, df=len(age)-1,loc=xbar, scale=se)\n",
    "age_confidence_interval"
   ]
  },
  {
   "cell_type": "code",
   "execution_count": 26,
   "id": "af2b716b",
   "metadata": {},
   "outputs": [
    {
     "name": "stdout",
     "output_type": "stream",
     "text": [
      "Note: you may need to restart the kernel to use updated packages.\n"
     ]
    }
   ],
   "source": [
    "pip install xlrd >=2.0.1"
   ]
  },
  {
   "cell_type": "code",
   "execution_count": 28,
   "id": "0757db08",
   "metadata": {},
   "outputs": [
    {
     "name": "stdout",
     "output_type": "stream",
     "text": [
      "<class 'pandas.core.frame.DataFrame'>\n",
      "RangeIndex: 418 entries, 0 to 417\n",
      "Data columns (total 12 columns):\n",
      " #   Column       Non-Null Count  Dtype  \n",
      "---  ------       --------------  -----  \n",
      " 0   PassengerId  418 non-null    int64  \n",
      " 1   Survived     418 non-null    int64  \n",
      " 2   Pclass       418 non-null    int64  \n",
      " 3   Name         418 non-null    object \n",
      " 4   Sex          418 non-null    object \n",
      " 5   Age          332 non-null    float64\n",
      " 6   SibSp        418 non-null    int64  \n",
      " 7   Parch        418 non-null    int64  \n",
      " 8   Ticket       418 non-null    object \n",
      " 9   Fare         417 non-null    float64\n",
      " 10  Cabin        91 non-null     object \n",
      " 11  Embarked     418 non-null    object \n",
      "dtypes: float64(2), int64(5), object(5)\n",
      "memory usage: 39.3+ KB\n"
     ]
    }
   ],
   "source": [
    "##The question is similar to this but now we have to find those likely to survive by age, sex in addition to what we already did in class/ assignment (by pclass) then combination-wise eg by pclass and sex (gender) etc: #loading the ds\n",
    "#first install pandas before running (can create a new venv)\n",
    "import pandas as pd\n",
    "data = pd.read_csv (r\"tested.csv\")\n",
    "data.info()"
   ]
  },
  {
   "cell_type": "code",
   "execution_count": 29,
   "id": "c4a3e4d5",
   "metadata": {},
   "outputs": [
    {
     "name": "stdout",
     "output_type": "stream",
     "text": [
      "Total number of survivors by class:\n",
      "Pclass\n",
      "1    50\n",
      "2    30\n",
      "3    72\n",
      "Name: Survived, dtype: int64\n"
     ]
    }
   ],
   "source": [
    "# count of people who survived in each passenger class\n",
    "#we aggregate the Survived column.\n",
    "grouped = data.groupby(\"Pclass\")[\"Survived\"].sum() #returns the count where the value is 1 or true\n",
    "print(\"Total number of survivors by class:\")\n",
    "print(grouped)"
   ]
  },
  {
   "cell_type": "code",
   "execution_count": 30,
   "id": "a1127be6",
   "metadata": {},
   "outputs": [
    {
     "name": "stdout",
     "output_type": "stream",
     "text": [
      "Total number of passengers that boarded by class:\n",
      "Pclass\n",
      "1    107\n",
      "2     93\n",
      "3    218\n",
      "Name: Survived, dtype: int64\n"
     ]
    }
   ],
   "source": [
    "grouped = data.groupby(\"Pclass\")[\"Survived\"].agg(\"count\") #counts the number of columns ie returns all passengers in that class\n",
    "print(\"Total number of passengers that boarded by class:\")\n",
    "print(grouped)"
   ]
  },
  {
   "cell_type": "code",
   "execution_count": 31,
   "id": "a9b49f69",
   "metadata": {},
   "outputs": [],
   "source": [
    "grouped = data.groupby(\"Pclass\")[\"Survived\"].agg(\"mean\") "
   ]
  },
  {
   "cell_type": "code",
   "execution_count": 32,
   "id": "dbd276c0",
   "metadata": {},
   "outputs": [
    {
     "name": "stdout",
     "output_type": "stream",
     "text": [
      "Survival rate by class:\n",
      "Pclass\n",
      "1    0.467290\n",
      "2    0.322581\n",
      "3    0.330275\n",
      "Name: Survived, dtype: float64\n"
     ]
    }
   ],
   "source": [
    "#Calculates the mean (average) survival value for each passenger class.\n",
    "#abit different from conventional mean eg if we have 100 passengers and 60 survivors, the mean would be 0.6 etc.\n",
    "print(\"Survival rate by class:\")\n",
    "print(grouped)"
   ]
  }
 ],
 "metadata": {
  "kernelspec": {
   "display_name": "MyvitualEnvironment",
   "language": "python",
   "name": "python3"
  },
  "language_info": {
   "codemirror_mode": {
    "name": "ipython",
    "version": 3
   },
   "file_extension": ".py",
   "mimetype": "text/x-python",
   "name": "python",
   "nbconvert_exporter": "python",
   "pygments_lexer": "ipython3",
   "version": "3.12.10"
  }
 },
 "nbformat": 4,
 "nbformat_minor": 5
}
