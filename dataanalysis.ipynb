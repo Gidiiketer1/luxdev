{
 "cells": [
  {
   "cell_type": "markdown",
   "id": "d916d92e",
   "metadata": {},
   "source": [
    "### File input/output\n",
    "with statement is used in file handling to avoid forgetting to close a file."
   ]
  },
  {
   "cell_type": "code",
   "execution_count": 1,
   "id": "9e586c8d",
   "metadata": {},
   "outputs": [],
   "source": [
    "with open(\"sample.txt\",\"w\") as file:\n",
    "    file.write(\"Hello World!\")"
   ]
  },
  {
   "cell_type": "code",
   "execution_count": 2,
   "id": "63a6dfc0",
   "metadata": {},
   "outputs": [
    {
     "name": "stdout",
     "output_type": "stream",
     "text": [
      "Hello World!\n"
     ]
    }
   ],
   "source": [
    "with open(\"sample.txt\",\"r\") as file:\n",
    "    content=file.read()\n",
    "    print(content)"
   ]
  },
  {
   "cell_type": "code",
   "execution_count": 3,
   "id": "8b31c37a",
   "metadata": {},
   "outputs": [
    {
     "name": "stdout",
     "output_type": "stream",
     "text": [
      "Product,Current price,old price,Discount,Review,Ratingd\n",
      "115  Piece Set Of Multifunctional Precision Screwdrivers,KSh 950,\"KSh 1,525\",38%,-2,4.5 out of 5\n",
      "Metal Decorative Hooks Key Hangers Entryway Wall Hooks Towel Hooks - Home,KSh 527,KSh 999,47%,-14,4.1 out of 5\n",
      "Portable Mini Cordless Car Vacuum Cleaner - Blue,\"KSh 2,199\",\"KSh 2,923\",25%,-24,4.6 out of 5\n",
      "Weighing Scale Digital Bathroom Body Fat Scale USB-Black,\"KSh 1,580\",\"KSh 2,499\",37%,-7,4.7 out of 5\n",
      "Portable Home Small Air Humidifier 3-Speed Fan - Green,\"KSh 1,740\",\"KSh 2,356\",26%,-5,4.8 out of 5\n",
      "\"220V 60W Electric Soldering Iron Kits With Tools, Tips, And Multimeter\",\"KSh 2,999\",\"KSh 3,290\",9%,-15,4 out of 5\n",
      "137 Pieces Cake Decorating Tool Set Baking Supplies,\"KSh 2,319\",\"KSh 3,032\",24%,-55,4.6 out of 5\n",
      "Desk Foldable Fan Adjustable Fan Strong Wind 3 Gear Usb,KSh 988,\"KSh 1,580\",37%,-2,4 out of 5\n",
      "LASA FOLDING TABLE SERVING STAND,\"KSh 1,274\",\"KSh 2,800\",55%,-5,4.8 out of 5\n",
      "13 In 1 Home Repair Tools Box Kit Set,\"KSh 1,600\",\"KSh 2,929\",45%,-5,3.8 out of 5\n",
      "Genebre 115 In 1 Screwdriver Repairing Tool Set For IPhone Cellphone Hand Tool,KSh 799,KSh 999,20%,-12,4.1 out of 5\n",
      "100 Pcs Crochet Hook Tool Set Knitting Hook Set With Box,KSh 990,\"KSh 1,500\",34%,-39,4.7 out of 5\n",
      "40cm Gold DIY Acrylic Wall Sticker Clock,KSh 552,\"KSh 1,035\",47%,-12,4.8 out of 5\n",
      "LASA Digital Thermometer And Hydrometer,KSh 501,KSh 860,42%,-6,4.5 out of 5\n",
      "Multifunction Laser Level With Adjustment Tripod,\"KSh 1,680\",\"KSh 2,499\",33%,-9,4.2 out of 5\n",
      "Anti-Skid Absorbent Insulation Coaster  For Home Office,KSh 332,KSh 684,51%,-2,5 out of 5\n",
      "Peacock  Throw Pillow Cushion Case For Home Car,KSh 195,KSh 360,46%,-2,5 out of 5\n",
      "LASA Aluminum Folding Truck Hand Cart - 68kg Max,\"KSh 2,025\",\"KSh 3,971\",49%,-3,5 out of 5\n",
      "LED Wall Digital Alarm Clock Study Home 12 / 24H Clock Calendar,\"KSh 2,999\",\"KSh 3,699\",19%,-5,4.6 out of 5\n",
      "3D Waterproof EVA Plastic Shower Curtain 1.8*2Mtrs,KSh 998,\"KSh 1,966\",49%,-44,4.6 out of 5\n",
      "3PCS Single Head Knitting Crochet Sweater Needle Set,KSh 38,KSh 80,53%,-13,3.3 out of 5\n",
      "\"4pcs Bathroom/Kitchen Towel Rack,Roll Paper Holder,Towel Bars,Hook\",\"KSh 1,860\",\"KSh 3,220\",42%,,\n",
      "\"LED Romantic Spaceship Starry Sky Projector,Children's Bedroom Night Light-Blue\",KSh 880,\"KSh 1,350\",35%,-6,4 out of 5\n",
      "Foldable Overbed Table/Desk,\"KSh 1,650\",\"KSh 2,150\",23%,-14,4.4 out of 5\n",
      "LASA 3 Tier Bamboo Shoe Bench Storage Shelf,\"KSh 2,048\",\"KSh 4,500\",54%,-7,4.3 out of 5\n",
      "Electronic Digital Display Vernier Caliper,KSh 420,KSh 647,35%,-49,4.6 out of 5\n",
      "Portable Wardrobe Nonwoven With 3 Hanging Rods And 6 Storage Shelves,\"KSh 2,880\",\"KSh 3,520\",18%,-12,3.8 out of 5\n",
      "12 Litre Black Insulated Lunch Box,\"KSh 1,350\",\"KSh 1,990\",32%,-13,3.8 out of 5\n",
      "52 Pieces Cake Decorating Tool Set Gift Kit Baking Supplies,\"KSh 1,758\",\"KSh 2,499\",30%,-20,4.1 out of 5\n",
      "MultiFunctional Storage Rack Multi-layer Bookshelf,\"KSh 2,200\",\"KSh 4,080\",46%,,\n",
      "Exfoliate And Exfoliate Face Towel - Black,KSh 185,KSh 382,52%,-9,4.3 out of 5\n",
      "12 Litre Insulated Lunch Box Grey,KSh 980,\"KSh 1,490\",34%,-12,4.7 out of 5\n",
      "\"LED Eye Protection  Desk Lamp , Study, Reading, USB Fan - Double Pen Holder\",\"KSh 1,820\",\"KSh 3,490\",48%,-9,4.3 out of 5\n",
      "53Pcs/Set Yarn Knitting Crochet Hooks With Bag - Fortune Cat,\"KSh 1,940\",\"KSh 2,650\",27%,-20,4.7 out of 5\n",
      "53 Pieces/Set Yarn Knitting Crochet Hooks With Bag - Pansies,\"KSh 1,980\",\"KSh 2,699\",27%,-32,4.5 out of 5\n",
      "\"DIY File Folder, Office Drawer File Holder, Pen Holder, Desktop Storage Rack\",\"KSh 1,620\",\"KSh 2,690\",40%,-1,5 out of 5\n",
      "Classic Black Cat Cotton Hemp Pillow Case For Home Car,KSh 171,KSh 360,53%,-2,5 out of 5\n",
      "Punch-free Great Load Bearing Bathroom Storage Rack Wall Shelf-White,KSh 389,KSh 656,41%,-36,4.3 out of 5\n",
      "\"1/2/3 Seater Elastic Sofa Cover,Living Room/Home Decor Chair Cover-Grey\",\"KSh 1,620 - KSh 1,980\",\"KSh 2,200 - KSh 3,200\",38%,-2,4.5 out of 5\n",
      "LASA Stainless Steel Double Wall Mount Soap Dispenser - 500ml,\"KSh 2,750\",\"KSh 4,471\",38%,,\n",
      "4M Float Switch Water Level Controller -Water Tank,KSh 475,KSh 931,49%,,\n",
      "Modern Sofa Throw Pillow Cover-45x45cm-Blue&Red,KSh 238,KSh 476,50%,,\n",
      "\"Balloon Insert, Birthday Party Balloon Set, PU Leather\",KSh 610,\"KSh 1,060\",42%,,\n",
      "\"Balloon Insert, Birthday Party Balloon Set, PU Leather\",KSh 610,\"KSh 1,060\",42%,,\n",
      "Shower Cap Wide Elastic Band Cover Reusable Bashroom Cap,\"KSh 2,132\",\"KSh 2,169\",2%,,\n",
      "Christmas Elk Fence Yard Lawn Decorations Cute For Holidays,KSh 999,\"KSh 2,000\",50%,,\n",
      "60W Hot Melt Glue Sprayer - Efficient And Stable Glue Dispensing,\"KSh 1,190\",\"KSh 1,785\",33%,,\n",
      "Car Phone Charging Stand,KSh 671,\"KSh 1,316\",49%,,\n",
      "2pcs Solar Street Light Flood Light Outdoor,\"KSh 1,200\",\"KSh 1,950\",38%,,\n",
      "Creative Owl Shape Keychain Black,KSh 199,KSh 504,61%,,\n",
      "Brush & Paintbrush Cleaning Tool Pink,KSh 299,KSh 600,50%,,\n",
      "Pen Grips For Kids Pen Grip Posture Correction Tool For Kids,\"KSh 1,660\",\"KSh 1,699\",2%,,\n",
      "Pilates Cloth Bag Waterproof Durable High Capacity Purple,KSh 299,KSh 384,22%,,\n",
      "Multi-purpose Rice Drainage Basket And Fruit And Vegetable Drainage Sieve,\"KSh 1,459\",\"KSh 1,499\",3%,,\n",
      "Cute Christmas Fence Garden Decorations For Holiday Home,KSh 799,\"KSh 1,343\",41%,,\n",
      "Simple Metal Dog Art Sculpture Decoration For Home Office,KSh 499,KSh 900,45%,,\n",
      "Christmas Fence Garden Decorations Outdoor For Holiday Home,KSh 699,\"KSh 1,343\",48%,,\n",
      "Angle Measuring Tool Full Metal Multi Angle Measuring Tool,KSh 799,\"KSh 1,567\",49%,,\n",
      "12V 19500rpm Handheld Electric Angle Grinder Tool - UK - Yellow/Black,\"KSh 2,799\",\"KSh 3,810\",27%,,\n",
      "Simple Metal Dog Art Sculpture Decoration For Home Office,KSh 399,KSh 896,55%,,\n",
      "5 Pieces/set Of Stainless Steel Induction Cooker Pots,\"KSh 2,170\",\"KSh 2,500\",13%,-6,2.5 out of 5\n",
      "Mythco 120COB Solar Wall Ligt With Motion Sensor And Remote Control 3 Modes,KSh 458,KSh 986,54%,-10,3 out of 5\n",
      "5-PCS Stainless Steel Cooking Pot Set With Steamed Slices,\"KSh 2,115\",\"KSh 4,700\",55%,-13,2.1 out of 5\n",
      "120W Cordless Vacuum Cleaners Handheld Electric Vacuum Cleaner,KSh 445,KSh 873,49%,-69,2.8 out of 5\n",
      "Intelligent  LED Body Sensor Wireless Lighting Night Light USB,KSh 325,KSh 680,52%,-15,2.7 out of 5\n",
      "VIC Wireless Vacuum Cleaner Dual Use For Home And Car 120W High Power Powerful,\"KSh 1,220\",\"KSh 1,555\",22%,-16,2.9 out of 5\n",
      "Artificial Potted Flowers Room Decorative Flowers (2 Pieces),KSh 990,\"KSh 1,814\",45%,-6,2.2 out of 5\n",
      "380ML USB Rechargeable Portable Small Blenders And Juicers,\"KSh 1,000\",\"KSh 2,000\",50%,-7,2.3 out of 5\n",
      "32PCS Portable Cordless Drill Set With Cyclic Battery Drive -26 Variable Speed,\"KSh 3,750\",\"KSh 6,143\",39%,-5,3 out of 5\n",
      "Agapeon Toothbrush Holder And Toothpaste Dispenser,KSh 382,KSh 700,45%,-17,2.6 out of 5\n",
      "Large Lazy Inflatable Sofa Chairs PVC Lounger Seat Bag,\"KSh 2,300\",\"KSh 3,240\",29%,-5,3 out of 5\n",
      "Watercolour Gold Foil Textured Print Pillow Cover,KSh 345,KSh 602,43%,-6,2.3 out of 5\n",
      "Wrought Iron Bathroom Shelf Wall Mounted Free Punch Toilet Rack,KSh 509,KSh 899,43%,-5,3 out of 5\n",
      "\"7-piece Set Of Storage Bags, Travel Storage Bags, Shoe Bags\",KSh 968,\"KSh 1,814\",47%,-6,2.2 out of 5\n",
      "\"Electric LED UV Mosquito Killer Lamp, Outdoor/Indoor Fly Killer Trap Light -USB\",\"KSh 1,570\",\"KSh 2,988\",47%,-7,2.1 out of 5\n",
      "2PCS/LOT Solar LED Outdoor Intelligent Light Controlled Wall Lamp,KSh 790,\"KSh 1,485\",47%,,\n",
      "3PCS Rotary Scraper Thermomix For Kitchen,KSh 690,\"KSh 1,200\",43%,,\n",
      "Cushion Silicone Butt Cushion Summer Ice Cushion Honeycomb Gel Cushion,\"KSh 1,732\",\"KSh 1,799\",4%,,\n",
      "7PCS Silicone Thumb Knife Finger Protector Vegetable Harvesting Knife,KSh 230,KSh 450,49%,,\n",
      "\"Memory Foam Neck Pillow Cover, With Pillow Core - 50*30cm\",\"KSh 1,189\",\"KSh 2,199\",46%,-1,3 out of 5\n",
      "Bedroom Simple Floor Hanging Clothes Rack Single Pole Hat Rack - White,KSh 979,\"KSh 1,920\",49%,-1,5 out of 5\n",
      "5m Waterproof Spherical LED String Lights Outdoor Ball Chain Lights Party Lighting Decoration Adjustable,\"KSh 1,460\",\"KSh 2,290\",36%,,\n",
      "2 Pairs Cowhide Split Leather Work Gloves.32â„‰ Or Above Welding Gloves,\"KSh 1,666\",\"KSh 1,699\",2%,,\n",
      "Household Pineapple Peeler Peeler,KSh 330,KSh 647,49%,-1,4 out of 5\n",
      "\"Balloon Insert, Birthday Party Balloon Set, PU Leather\",KSh 610,\"KSh 1,060\",42%,,\n",
      "Creative Owl Shape Keychain Black,KSh 176,KSh 345,49%,,\n",
      "Office Chair Lumbar Back Support Spine Posture Correction Pillow Car Cushion,\"KSh 1,466\",\"KSh 1,699\",14%,,\n",
      "Cartoon Car Decoration Cute Individuality For Car Home Desk,KSh 274,KSh 537,49%,,\n",
      "Outdoor Portable Water Bottle With Medicine Box - 600ML - Black,KSh 799,KSh 900,11%,,\n",
      "Angle Measuring Tool Full Metal Multi Angle Measuring Tool,KSh 657,\"KSh 1,288\",49%,,\n",
      "Wall-Mounted Toothbrush Toothpaste Holder With Multiple Slots,\"KSh 1,468\",\"KSh 1,699\",14%,,\n",
      "Multifunctional Hanging Storage Box Storage Bag (4 Layers),KSh 630,\"KSh 1,100\",43%,,\n",
      "Wall Clock With Hidden Safe Box,KSh 850,\"KSh 1,700\",50%,,\n",
      "Portable Wine Table With Folding Round Table,\"KSh 1,300\",\"KSh 2,500\",48%,,\n",
      "Sewing Machine Needle Threader Stitch Insertion Tool Automatic Quick Sewing,KSh 105,KSh 200,48%,,\n",
      "6 Layers Steel Pipe Assembling Dustproof Storage Shoe Cabinet,KSh 899,\"KSh 1,699\",47%,,\n",
      "6 Layers Steel Pipe Assembling Dustproof Storage Shoe Cabinet,KSh 899,\"KSh 1,699\",47%,,\n",
      "2PCS Ice Silk Square Cushion Cover Pillowcases - 65x65cm,\"KSh 1,200\",\"KSh 2,400\",50%,,\n",
      "Wall Mount Automatic Toothpaste Dispenser Toothbrush Holder Toothpaste Squeezer,\"KSh 1,526\",\"KSh 1,660\",8%,,\n",
      "Portable Soap Dispenser Kitchen Detergent Press Box Kitchen Tools,\"KSh 1,462\",\"KSh 1,499\",2%,,\n",
      "4 Piece Coloured Stainless Steel Kitchenware Set,KSh 248,KSh 486,49%,,\n",
      "Metal Wall Clock Silver Dial Crystal Jewelry Round Home Decoration Wall Clock,\"KSh 3,546\",\"KSh 3,699\",4%,,\n",
      "Baby Early Education Shape And Color Cognitive Training Toys,KSh 525,\"KSh 1,029\",49%,,\n",
      "8in1 Screwdriver With LED Light,\"KSh 1,080\",\"KSh 1,874\",42%,,\n",
      "\"Konka Healty Electric Kettle, 24-hour Heat Preservation,1.5L,800W, White\",\"KSh 3,640\",\"KSh 4,588\",21%,-1,5 out of 5\n",
      "\"9pcs Gas Mask, For Painting, Dust, Formaldehyde Grinding, Polishing\",\"KSh 1,420\",\"KSh 2,420\",41%,,\n",
      "24 Grid Wall-mounted Sundries Organiser Fabric Closet Bag Storage Rack,\"KSh 1,875\",\"KSh 1,899\",1%,,\n",
      "1PC Refrigerator Food Seal Pocket Fridge Bags,KSh 198,KSh 260,24%,,\n",
      "LED Solar Street Light-fake Camera,\"KSh 1,150\",\"KSh 1,737\",34%,,\n",
      "Cartoon Embroidered Mini Towel Bear Cotton Wash Cloth Hand 4pcs,\"KSh 1,190\",\"KSh 1,810\",34%,,\n",
      "Shower Nozzle Cleaning Unclogging Needle Mini Crevice Small Hole Cleaning Brush,\"KSh 1,658\",\"KSh 1,699\",2%,,\n",
      "Thickening Multipurpose Non Stick Easy To Clean Heat Resistant Spoon Pad,\"KSh 1,768\",\"KSh 1,799\",2%,,\n",
      "6 In 1 Bottle Can Opener Multifunctional Easy Opener,KSh 199,KSh 553,64%,,\n",
      "Wall-mounted Sticker Punch-free Plug Fixer,KSh 450,KSh 900,50%,-1,2 out of 5\n",
      "Black Simple Water Cup Wine Coaster Anti Slip Absorbent,KSh 169,KSh 320,47%,,\n",
      "\n"
     ]
    }
   ],
   "source": [
    "with open(\"Excel_jumia 1.csv\",\"r\") as file:\n",
    "    content=file.read()\n",
    "    print(content)"
   ]
  },
  {
   "cell_type": "code",
   "execution_count": 4,
   "id": "8d08a8c7",
   "metadata": {},
   "outputs": [
    {
     "ename": "SyntaxError",
     "evalue": "expected ':' (1098811630.py, line 1)",
     "output_type": "error",
     "traceback": [
      "  \u001b[36mCell\u001b[39m\u001b[36m \u001b[39m\u001b[32mIn[4]\u001b[39m\u001b[32m, line 1\u001b[39m\n\u001b[31m    \u001b[39m\u001b[31mwith open(\"sample.csv\")\u001b[39m\n                           ^\n\u001b[31mSyntaxError\u001b[39m\u001b[31m:\u001b[39m expected ':'\n"
     ]
    }
   ],
   "source": [
    "with open(\"sample.csv\")"
   ]
  },
  {
   "cell_type": "code",
   "execution_count": null,
   "id": "4b333f1f",
   "metadata": {},
   "outputs": [
    {
     "data": {
      "text/html": [
       "<div>\n",
       "<style scoped>\n",
       "    .dataframe tbody tr th:only-of-type {\n",
       "        vertical-align: middle;\n",
       "    }\n",
       "\n",
       "    .dataframe tbody tr th {\n",
       "        vertical-align: top;\n",
       "    }\n",
       "\n",
       "    .dataframe thead th {\n",
       "        text-align: right;\n",
       "    }\n",
       "</style>\n",
       "<table border=\"1\" class=\"dataframe\">\n",
       "  <thead>\n",
       "    <tr style=\"text-align: right;\">\n",
       "      <th></th>\n",
       "      <th>Product</th>\n",
       "      <th>Current price</th>\n",
       "      <th>old price</th>\n",
       "      <th>Discount</th>\n",
       "      <th>Review</th>\n",
       "      <th>Ratingd</th>\n",
       "    </tr>\n",
       "  </thead>\n",
       "  <tbody>\n",
       "    <tr>\n",
       "      <th>0</th>\n",
       "      <td>115  Piece Set Of Multifunctional Precision Sc...</td>\n",
       "      <td>KSh 950</td>\n",
       "      <td>KSh 1,525</td>\n",
       "      <td>38%</td>\n",
       "      <td>-2.0</td>\n",
       "      <td>4.5 out of 5</td>\n",
       "    </tr>\n",
       "    <tr>\n",
       "      <th>1</th>\n",
       "      <td>Metal Decorative Hooks Key Hangers Entryway Wa...</td>\n",
       "      <td>KSh 527</td>\n",
       "      <td>KSh 999</td>\n",
       "      <td>47%</td>\n",
       "      <td>-14.0</td>\n",
       "      <td>4.1 out of 5</td>\n",
       "    </tr>\n",
       "    <tr>\n",
       "      <th>2</th>\n",
       "      <td>Portable Mini Cordless Car Vacuum Cleaner - Blue</td>\n",
       "      <td>KSh 2,199</td>\n",
       "      <td>KSh 2,923</td>\n",
       "      <td>25%</td>\n",
       "      <td>-24.0</td>\n",
       "      <td>4.6 out of 5</td>\n",
       "    </tr>\n",
       "    <tr>\n",
       "      <th>3</th>\n",
       "      <td>Weighing Scale Digital Bathroom Body Fat Scale...</td>\n",
       "      <td>KSh 1,580</td>\n",
       "      <td>KSh 2,499</td>\n",
       "      <td>37%</td>\n",
       "      <td>-7.0</td>\n",
       "      <td>4.7 out of 5</td>\n",
       "    </tr>\n",
       "    <tr>\n",
       "      <th>4</th>\n",
       "      <td>Portable Home Small Air Humidifier 3-Speed Fan...</td>\n",
       "      <td>KSh 1,740</td>\n",
       "      <td>KSh 2,356</td>\n",
       "      <td>26%</td>\n",
       "      <td>-5.0</td>\n",
       "      <td>4.8 out of 5</td>\n",
       "    </tr>\n",
       "  </tbody>\n",
       "</table>\n",
       "</div>"
      ],
      "text/plain": [
       "                                             Product Current price  old price  \\\n",
       "0  115  Piece Set Of Multifunctional Precision Sc...       KSh 950  KSh 1,525   \n",
       "1  Metal Decorative Hooks Key Hangers Entryway Wa...       KSh 527    KSh 999   \n",
       "2   Portable Mini Cordless Car Vacuum Cleaner - Blue     KSh 2,199  KSh 2,923   \n",
       "3  Weighing Scale Digital Bathroom Body Fat Scale...     KSh 1,580  KSh 2,499   \n",
       "4  Portable Home Small Air Humidifier 3-Speed Fan...     KSh 1,740  KSh 2,356   \n",
       "\n",
       "  Discount  Review       Ratingd  \n",
       "0      38%    -2.0  4.5 out of 5  \n",
       "1      47%   -14.0  4.1 out of 5  \n",
       "2      25%   -24.0  4.6 out of 5  \n",
       "3      37%    -7.0  4.7 out of 5  \n",
       "4      26%    -5.0  4.8 out of 5  "
      ]
     },
     "execution_count": 41,
     "metadata": {},
     "output_type": "execute_result"
    }
   ],
   "source": [
    "import pandas as pd\n",
    "df=pd.read_csv(r\"Excel_jumia 1.csv\")\n",
    "df.head()\n"
   ]
  },
  {
   "cell_type": "code",
   "execution_count": null,
   "id": "443e9be5",
   "metadata": {},
   "outputs": [],
   "source": [
    "df.to_csv(\"sample.csv\",index=False)"
   ]
  },
  {
   "cell_type": "markdown",
   "id": "671aad04",
   "metadata": {},
   "source": [
    "pandas is a powrful library for data analysis and is used to manipulate datastets\n",
    "provides 2 main data structures\n",
    "1. series...like a column\n",
    "2. dataframe...like a table"
   ]
  },
  {
   "cell_type": "code",
   "execution_count": null,
   "id": "02ece4c0",
   "metadata": {},
   "outputs": [
    {
     "data": {
      "text/html": [
       "<div>\n",
       "<style scoped>\n",
       "    .dataframe tbody tr th:only-of-type {\n",
       "        vertical-align: middle;\n",
       "    }\n",
       "\n",
       "    .dataframe tbody tr th {\n",
       "        vertical-align: top;\n",
       "    }\n",
       "\n",
       "    .dataframe thead th {\n",
       "        text-align: right;\n",
       "    }\n",
       "</style>\n",
       "<table border=\"1\" class=\"dataframe\">\n",
       "  <thead>\n",
       "    <tr style=\"text-align: right;\">\n",
       "      <th></th>\n",
       "      <th>Product</th>\n",
       "      <th>Current price</th>\n",
       "      <th>old price</th>\n",
       "      <th>Discount</th>\n",
       "      <th>Review</th>\n",
       "      <th>Ratingd</th>\n",
       "    </tr>\n",
       "  </thead>\n",
       "  <tbody>\n",
       "    <tr>\n",
       "      <th>0</th>\n",
       "      <td>115  Piece Set Of Multifunctional Precision Sc...</td>\n",
       "      <td>KSh 950</td>\n",
       "      <td>KSh 1,525</td>\n",
       "      <td>38%</td>\n",
       "      <td>-2.0</td>\n",
       "      <td>4.5 out of 5</td>\n",
       "    </tr>\n",
       "    <tr>\n",
       "      <th>1</th>\n",
       "      <td>Metal Decorative Hooks Key Hangers Entryway Wa...</td>\n",
       "      <td>KSh 527</td>\n",
       "      <td>KSh 999</td>\n",
       "      <td>47%</td>\n",
       "      <td>-14.0</td>\n",
       "      <td>4.1 out of 5</td>\n",
       "    </tr>\n",
       "    <tr>\n",
       "      <th>2</th>\n",
       "      <td>Portable Mini Cordless Car Vacuum Cleaner - Blue</td>\n",
       "      <td>KSh 2,199</td>\n",
       "      <td>KSh 2,923</td>\n",
       "      <td>25%</td>\n",
       "      <td>-24.0</td>\n",
       "      <td>4.6 out of 5</td>\n",
       "    </tr>\n",
       "    <tr>\n",
       "      <th>3</th>\n",
       "      <td>Weighing Scale Digital Bathroom Body Fat Scale...</td>\n",
       "      <td>KSh 1,580</td>\n",
       "      <td>KSh 2,499</td>\n",
       "      <td>37%</td>\n",
       "      <td>-7.0</td>\n",
       "      <td>4.7 out of 5</td>\n",
       "    </tr>\n",
       "    <tr>\n",
       "      <th>4</th>\n",
       "      <td>Portable Home Small Air Humidifier 3-Speed Fan...</td>\n",
       "      <td>KSh 1,740</td>\n",
       "      <td>KSh 2,356</td>\n",
       "      <td>26%</td>\n",
       "      <td>-5.0</td>\n",
       "      <td>4.8 out of 5</td>\n",
       "    </tr>\n",
       "    <tr>\n",
       "      <th>5</th>\n",
       "      <td>220V 60W Electric Soldering Iron Kits With Too...</td>\n",
       "      <td>KSh 2,999</td>\n",
       "      <td>KSh 3,290</td>\n",
       "      <td>9%</td>\n",
       "      <td>-15.0</td>\n",
       "      <td>4 out of 5</td>\n",
       "    </tr>\n",
       "    <tr>\n",
       "      <th>6</th>\n",
       "      <td>137 Pieces Cake Decorating Tool Set Baking Sup...</td>\n",
       "      <td>KSh 2,319</td>\n",
       "      <td>KSh 3,032</td>\n",
       "      <td>24%</td>\n",
       "      <td>-55.0</td>\n",
       "      <td>4.6 out of 5</td>\n",
       "    </tr>\n",
       "    <tr>\n",
       "      <th>7</th>\n",
       "      <td>Desk Foldable Fan Adjustable Fan Strong Wind 3...</td>\n",
       "      <td>KSh 988</td>\n",
       "      <td>KSh 1,580</td>\n",
       "      <td>37%</td>\n",
       "      <td>-2.0</td>\n",
       "      <td>4 out of 5</td>\n",
       "    </tr>\n",
       "    <tr>\n",
       "      <th>8</th>\n",
       "      <td>LASA FOLDING TABLE SERVING STAND</td>\n",
       "      <td>KSh 1,274</td>\n",
       "      <td>KSh 2,800</td>\n",
       "      <td>55%</td>\n",
       "      <td>-5.0</td>\n",
       "      <td>4.8 out of 5</td>\n",
       "    </tr>\n",
       "    <tr>\n",
       "      <th>9</th>\n",
       "      <td>13 In 1 Home Repair Tools Box Kit Set</td>\n",
       "      <td>KSh 1,600</td>\n",
       "      <td>KSh 2,929</td>\n",
       "      <td>45%</td>\n",
       "      <td>-5.0</td>\n",
       "      <td>3.8 out of 5</td>\n",
       "    </tr>\n",
       "  </tbody>\n",
       "</table>\n",
       "</div>"
      ],
      "text/plain": [
       "                                             Product Current price  old price  \\\n",
       "0  115  Piece Set Of Multifunctional Precision Sc...       KSh 950  KSh 1,525   \n",
       "1  Metal Decorative Hooks Key Hangers Entryway Wa...       KSh 527    KSh 999   \n",
       "2   Portable Mini Cordless Car Vacuum Cleaner - Blue     KSh 2,199  KSh 2,923   \n",
       "3  Weighing Scale Digital Bathroom Body Fat Scale...     KSh 1,580  KSh 2,499   \n",
       "4  Portable Home Small Air Humidifier 3-Speed Fan...     KSh 1,740  KSh 2,356   \n",
       "5  220V 60W Electric Soldering Iron Kits With Too...     KSh 2,999  KSh 3,290   \n",
       "6  137 Pieces Cake Decorating Tool Set Baking Sup...     KSh 2,319  KSh 3,032   \n",
       "7  Desk Foldable Fan Adjustable Fan Strong Wind 3...       KSh 988  KSh 1,580   \n",
       "8                   LASA FOLDING TABLE SERVING STAND     KSh 1,274  KSh 2,800   \n",
       "9              13 In 1 Home Repair Tools Box Kit Set     KSh 1,600  KSh 2,929   \n",
       "\n",
       "  Discount  Review       Ratingd  \n",
       "0      38%    -2.0  4.5 out of 5  \n",
       "1      47%   -14.0  4.1 out of 5  \n",
       "2      25%   -24.0  4.6 out of 5  \n",
       "3      37%    -7.0  4.7 out of 5  \n",
       "4      26%    -5.0  4.8 out of 5  \n",
       "5       9%   -15.0    4 out of 5  \n",
       "6      24%   -55.0  4.6 out of 5  \n",
       "7      37%    -2.0    4 out of 5  \n",
       "8      55%    -5.0  4.8 out of 5  \n",
       "9      45%    -5.0  3.8 out of 5  "
      ]
     },
     "execution_count": 13,
     "metadata": {},
     "output_type": "execute_result"
    }
   ],
   "source": [
    "## loading a dataset using pandas\n",
    "df=pd.read_csv(r\"Excel_jumia 1.csv\")\n",
    "df.head(10)"
   ]
  },
  {
   "cell_type": "code",
   "execution_count": null,
   "id": "efc396f3",
   "metadata": {},
   "outputs": [
    {
     "name": "stdout",
     "output_type": "stream",
     "text": [
      "<class 'pandas.core.frame.DataFrame'>\n",
      "RangeIndex: 115 entries, 0 to 114\n",
      "Data columns (total 6 columns):\n",
      " #   Column         Non-Null Count  Dtype  \n",
      "---  ------         --------------  -----  \n",
      " 0   Product        115 non-null    object \n",
      " 1   Current price  115 non-null    object \n",
      " 2   old price      115 non-null    object \n",
      " 3   Discount       115 non-null    object \n",
      " 4   Review         57 non-null     float64\n",
      " 5   Ratingd        57 non-null     object \n",
      "dtypes: float64(1), object(5)\n",
      "memory usage: 5.5+ KB\n"
     ]
    }
   ],
   "source": [
    "## view dataset\n",
    "df.info()"
   ]
  },
  {
   "cell_type": "code",
   "execution_count": null,
   "id": "6506e13d",
   "metadata": {},
   "outputs": [
    {
     "data": {
      "text/plain": [
       "Product           0\n",
       "Current price     0\n",
       "old price         0\n",
       "Discount          0\n",
       "Review           58\n",
       "Ratingd          58\n",
       "dtype: int64"
      ]
     },
     "execution_count": 20,
     "metadata": {},
     "output_type": "execute_result"
    }
   ],
   "source": [
    "## check for missing values\n",
    "df.isnull().sum()"
   ]
  },
  {
   "cell_type": "markdown",
   "id": "160e815b",
   "metadata": {},
   "source": [
    "fillna method is used to fill missing values in a column"
   ]
  },
  {
   "cell_type": "code",
   "execution_count": null,
   "id": "5c393d98",
   "metadata": {},
   "outputs": [
    {
     "data": {
      "text/html": [
       "<div>\n",
       "<style scoped>\n",
       "    .dataframe tbody tr th:only-of-type {\n",
       "        vertical-align: middle;\n",
       "    }\n",
       "\n",
       "    .dataframe tbody tr th {\n",
       "        vertical-align: top;\n",
       "    }\n",
       "\n",
       "    .dataframe thead th {\n",
       "        text-align: right;\n",
       "    }\n",
       "</style>\n",
       "<table border=\"1\" class=\"dataframe\">\n",
       "  <thead>\n",
       "    <tr style=\"text-align: right;\">\n",
       "      <th></th>\n",
       "      <th>Product</th>\n",
       "      <th>Current price</th>\n",
       "      <th>old price</th>\n",
       "      <th>Discount</th>\n",
       "      <th>Review</th>\n",
       "      <th>Ratingd</th>\n",
       "    </tr>\n",
       "  </thead>\n",
       "  <tbody>\n",
       "    <tr>\n",
       "      <th>0</th>\n",
       "      <td>115  Piece Set Of Multifunctional Precision Sc...</td>\n",
       "      <td>KSh 950</td>\n",
       "      <td>KSh 1,525</td>\n",
       "      <td>38%</td>\n",
       "      <td>-2.0</td>\n",
       "      <td>4.5 out of 5</td>\n",
       "    </tr>\n",
       "    <tr>\n",
       "      <th>1</th>\n",
       "      <td>Metal Decorative Hooks Key Hangers Entryway Wa...</td>\n",
       "      <td>KSh 527</td>\n",
       "      <td>KSh 999</td>\n",
       "      <td>47%</td>\n",
       "      <td>-14.0</td>\n",
       "      <td>4.1 out of 5</td>\n",
       "    </tr>\n",
       "    <tr>\n",
       "      <th>2</th>\n",
       "      <td>Portable Mini Cordless Car Vacuum Cleaner - Blue</td>\n",
       "      <td>KSh 2,199</td>\n",
       "      <td>KSh 2,923</td>\n",
       "      <td>25%</td>\n",
       "      <td>-24.0</td>\n",
       "      <td>4.6 out of 5</td>\n",
       "    </tr>\n",
       "    <tr>\n",
       "      <th>3</th>\n",
       "      <td>Weighing Scale Digital Bathroom Body Fat Scale...</td>\n",
       "      <td>KSh 1,580</td>\n",
       "      <td>KSh 2,499</td>\n",
       "      <td>37%</td>\n",
       "      <td>-7.0</td>\n",
       "      <td>4.7 out of 5</td>\n",
       "    </tr>\n",
       "    <tr>\n",
       "      <th>4</th>\n",
       "      <td>Portable Home Small Air Humidifier 3-Speed Fan...</td>\n",
       "      <td>KSh 1,740</td>\n",
       "      <td>KSh 2,356</td>\n",
       "      <td>26%</td>\n",
       "      <td>-5.0</td>\n",
       "      <td>4.8 out of 5</td>\n",
       "    </tr>\n",
       "  </tbody>\n",
       "</table>\n",
       "</div>"
      ],
      "text/plain": [
       "                                             Product Current price  old price  \\\n",
       "0  115  Piece Set Of Multifunctional Precision Sc...       KSh 950  KSh 1,525   \n",
       "1  Metal Decorative Hooks Key Hangers Entryway Wa...       KSh 527    KSh 999   \n",
       "2   Portable Mini Cordless Car Vacuum Cleaner - Blue     KSh 2,199  KSh 2,923   \n",
       "3  Weighing Scale Digital Bathroom Body Fat Scale...     KSh 1,580  KSh 2,499   \n",
       "4  Portable Home Small Air Humidifier 3-Speed Fan...     KSh 1,740  KSh 2,356   \n",
       "\n",
       "  Discount  Review       Ratingd  \n",
       "0      38%    -2.0  4.5 out of 5  \n",
       "1      47%   -14.0  4.1 out of 5  \n",
       "2      25%   -24.0  4.6 out of 5  \n",
       "3      37%    -7.0  4.7 out of 5  \n",
       "4      26%    -5.0  4.8 out of 5  "
      ]
     },
     "execution_count": 16,
     "metadata": {},
     "output_type": "execute_result"
    }
   ],
   "source": [
    "#to drop the two columns we can exclude them using drop method\n",
    "df.drop(columns=[\"Review\",\"Ratingd\"],axis=1)\n",
    "df.head()"
   ]
  },
  {
   "cell_type": "code",
   "execution_count": null,
   "id": "a72687c7",
   "metadata": {},
   "outputs": [
    {
     "data": {
      "text/html": [
       "<div>\n",
       "<style scoped>\n",
       "    .dataframe tbody tr th:only-of-type {\n",
       "        vertical-align: middle;\n",
       "    }\n",
       "\n",
       "    .dataframe tbody tr th {\n",
       "        vertical-align: top;\n",
       "    }\n",
       "\n",
       "    .dataframe thead th {\n",
       "        text-align: right;\n",
       "    }\n",
       "</style>\n",
       "<table border=\"1\" class=\"dataframe\">\n",
       "  <thead>\n",
       "    <tr style=\"text-align: right;\">\n",
       "      <th></th>\n",
       "      <th>PassengerId</th>\n",
       "      <th>Survived</th>\n",
       "      <th>Pclass</th>\n",
       "      <th>Name</th>\n",
       "      <th>Sex</th>\n",
       "      <th>Age</th>\n",
       "      <th>SibSp</th>\n",
       "      <th>Parch</th>\n",
       "      <th>Ticket</th>\n",
       "      <th>Fare</th>\n",
       "      <th>Cabin</th>\n",
       "      <th>Embarked</th>\n",
       "    </tr>\n",
       "  </thead>\n",
       "  <tbody>\n",
       "    <tr>\n",
       "      <th>0</th>\n",
       "      <td>892</td>\n",
       "      <td>0</td>\n",
       "      <td>3</td>\n",
       "      <td>Kelly, Mr. James</td>\n",
       "      <td>male</td>\n",
       "      <td>34.5</td>\n",
       "      <td>0</td>\n",
       "      <td>0</td>\n",
       "      <td>330911</td>\n",
       "      <td>7.8292</td>\n",
       "      <td>NaN</td>\n",
       "      <td>Q</td>\n",
       "    </tr>\n",
       "    <tr>\n",
       "      <th>1</th>\n",
       "      <td>893</td>\n",
       "      <td>1</td>\n",
       "      <td>3</td>\n",
       "      <td>Wilkes, Mrs. James (Ellen Needs)</td>\n",
       "      <td>female</td>\n",
       "      <td>47.0</td>\n",
       "      <td>1</td>\n",
       "      <td>0</td>\n",
       "      <td>363272</td>\n",
       "      <td>7.0000</td>\n",
       "      <td>NaN</td>\n",
       "      <td>S</td>\n",
       "    </tr>\n",
       "    <tr>\n",
       "      <th>2</th>\n",
       "      <td>894</td>\n",
       "      <td>0</td>\n",
       "      <td>2</td>\n",
       "      <td>Myles, Mr. Thomas Francis</td>\n",
       "      <td>male</td>\n",
       "      <td>62.0</td>\n",
       "      <td>0</td>\n",
       "      <td>0</td>\n",
       "      <td>240276</td>\n",
       "      <td>9.6875</td>\n",
       "      <td>NaN</td>\n",
       "      <td>Q</td>\n",
       "    </tr>\n",
       "    <tr>\n",
       "      <th>3</th>\n",
       "      <td>895</td>\n",
       "      <td>0</td>\n",
       "      <td>3</td>\n",
       "      <td>Wirz, Mr. Albert</td>\n",
       "      <td>male</td>\n",
       "      <td>27.0</td>\n",
       "      <td>0</td>\n",
       "      <td>0</td>\n",
       "      <td>315154</td>\n",
       "      <td>8.6625</td>\n",
       "      <td>NaN</td>\n",
       "      <td>S</td>\n",
       "    </tr>\n",
       "    <tr>\n",
       "      <th>4</th>\n",
       "      <td>896</td>\n",
       "      <td>1</td>\n",
       "      <td>3</td>\n",
       "      <td>Hirvonen, Mrs. Alexander (Helga E Lindqvist)</td>\n",
       "      <td>female</td>\n",
       "      <td>22.0</td>\n",
       "      <td>1</td>\n",
       "      <td>1</td>\n",
       "      <td>3101298</td>\n",
       "      <td>12.2875</td>\n",
       "      <td>NaN</td>\n",
       "      <td>S</td>\n",
       "    </tr>\n",
       "  </tbody>\n",
       "</table>\n",
       "</div>"
      ],
      "text/plain": [
       "   PassengerId  Survived  Pclass  \\\n",
       "0          892         0       3   \n",
       "1          893         1       3   \n",
       "2          894         0       2   \n",
       "3          895         0       3   \n",
       "4          896         1       3   \n",
       "\n",
       "                                           Name     Sex   Age  SibSp  Parch  \\\n",
       "0                              Kelly, Mr. James    male  34.5      0      0   \n",
       "1              Wilkes, Mrs. James (Ellen Needs)  female  47.0      1      0   \n",
       "2                     Myles, Mr. Thomas Francis    male  62.0      0      0   \n",
       "3                              Wirz, Mr. Albert    male  27.0      0      0   \n",
       "4  Hirvonen, Mrs. Alexander (Helga E Lindqvist)  female  22.0      1      1   \n",
       "\n",
       "    Ticket     Fare Cabin Embarked  \n",
       "0   330911   7.8292   NaN        Q  \n",
       "1   363272   7.0000   NaN        S  \n",
       "2   240276   9.6875   NaN        Q  \n",
       "3   315154   8.6625   NaN        S  \n",
       "4  3101298  12.2875   NaN        S  "
      ]
     },
     "execution_count": 42,
     "metadata": {},
     "output_type": "execute_result"
    }
   ],
   "source": [
    "data=pd.read_csv(r\"tested.csv\")\n",
    "data.head()"
   ]
  },
  {
   "cell_type": "code",
   "execution_count": null,
   "id": "1f30ee40",
   "metadata": {},
   "outputs": [
    {
     "data": {
      "text/plain": [
       "Pclass\n",
       "1    10087.9918\n",
       "2     2064.7957\n",
       "3     2703.7501\n",
       "Name: Fare, dtype: float64"
      ]
     },
     "execution_count": 18,
     "metadata": {},
     "output_type": "execute_result"
    }
   ],
   "source": [
    "data.groupby(\"Pclass\")[\"Fare\"].sum()"
   ]
  },
  {
   "cell_type": "markdown",
   "id": "90fd6cd6",
   "metadata": {},
   "source": [
    "### Numpy...numerical python...\n",
    "it is a fast efficient library for numerical computing\n",
    "it provides a high performance array object and tools for working with these arrays."
   ]
  },
  {
   "cell_type": "code",
   "execution_count": null,
   "id": "b2ed9e01",
   "metadata": {},
   "outputs": [],
   "source": [
    "numbers=[1,2,3,4,5,6,7,8,9,10]\n",
    "norms=[10,9,8,7,6,5,4,3,2,1]\n"
   ]
  },
  {
   "cell_type": "code",
   "execution_count": null,
   "id": "2bd38cda",
   "metadata": {},
   "outputs": [
    {
     "data": {
      "text/plain": [
       "[1, 2, 3, 4, 5, 6, 7, 8, 9, 10, 10, 9, 8, 7, 6, 5, 4, 3, 2, 1]"
      ]
     },
     "execution_count": 24,
     "metadata": {},
     "output_type": "execute_result"
    }
   ],
   "source": [
    "numbers+norms"
   ]
  },
  {
   "cell_type": "code",
   "execution_count": null,
   "id": "9cfce8b6",
   "metadata": {},
   "outputs": [],
   "source": [
    "import numpy as np"
   ]
  },
  {
   "cell_type": "code",
   "execution_count": null,
   "id": "7e4fb37d",
   "metadata": {},
   "outputs": [
    {
     "data": {
      "text/plain": [
       "array([ 1,  2,  3,  4,  5,  6,  7,  8,  9, 10])"
      ]
     },
     "execution_count": 29,
     "metadata": {},
     "output_type": "execute_result"
    }
   ],
   "source": [
    "numbers_array=np.array(numbers)\n",
    "numbers_array"
   ]
  },
  {
   "cell_type": "code",
   "execution_count": null,
   "id": "e5482760",
   "metadata": {},
   "outputs": [
    {
     "data": {
      "text/plain": [
       "array([10,  9,  8,  7,  6,  5,  4,  3,  2,  1])"
      ]
     },
     "execution_count": 33,
     "metadata": {},
     "output_type": "execute_result"
    }
   ],
   "source": [
    "norms=np.array(norms)\n",
    "norms_array"
   ]
  },
  {
   "cell_type": "code",
   "execution_count": null,
   "id": "6eff8782",
   "metadata": {},
   "outputs": [
    {
     "data": {
      "text/plain": [
       "array([11, 11, 11, 11, 11, 11, 11, 11, 11, 11])"
      ]
     },
     "execution_count": 34,
     "metadata": {},
     "output_type": "execute_result"
    }
   ],
   "source": [
    "add2=numbers_array+norms_array\n",
    "add2"
   ]
  },
  {
   "cell_type": "code",
   "execution_count": null,
   "id": "c4e0160f",
   "metadata": {},
   "outputs": [
    {
     "data": {
      "text/plain": [
       "np.float64(5.5)"
      ]
     },
     "execution_count": 35,
     "metadata": {},
     "output_type": "execute_result"
    }
   ],
   "source": [
    "numbers_array.mean()"
   ]
  },
  {
   "cell_type": "code",
   "execution_count": null,
   "id": "61d11940",
   "metadata": {},
   "outputs": [
    {
     "data": {
      "text/plain": [
       "55"
      ]
     },
     "execution_count": 36,
     "metadata": {},
     "output_type": "execute_result"
    }
   ],
   "source": [
    "sum(numbers)"
   ]
  },
  {
   "cell_type": "code",
   "execution_count": null,
   "id": "1ea62e77",
   "metadata": {},
   "outputs": [
    {
     "data": {
      "text/plain": [
       "np.int64(55)"
      ]
     },
     "execution_count": 37,
     "metadata": {},
     "output_type": "execute_result"
    }
   ],
   "source": [
    "numbers_array.sum()"
   ]
  },
  {
   "cell_type": "code",
   "execution_count": null,
   "id": "fb1d7dff",
   "metadata": {},
   "outputs": [
    {
     "data": {
      "text/plain": [
       "np.float64(2.8722813232690143)"
      ]
     },
     "execution_count": 38,
     "metadata": {},
     "output_type": "execute_result"
    }
   ],
   "source": [
    "numbers_array.std()"
   ]
  },
  {
   "cell_type": "code",
   "execution_count": null,
   "id": "a9f73509",
   "metadata": {},
   "outputs": [
    {
     "data": {
      "text/plain": [
       "np.float64(8.25)"
      ]
     },
     "execution_count": 39,
     "metadata": {},
     "output_type": "execute_result"
    }
   ],
   "source": [
    "numbers_array.var()"
   ]
  },
  {
   "cell_type": "code",
   "execution_count": 5,
   "id": "89b58ba4",
   "metadata": {},
   "outputs": [
    {
     "ename": "NameError",
     "evalue": "name 'data' is not defined",
     "output_type": "error",
     "traceback": [
      "\u001b[31m---------------------------------------------------------------------------\u001b[39m",
      "\u001b[31mNameError\u001b[39m                                 Traceback (most recent call last)",
      "\u001b[36mCell\u001b[39m\u001b[36m \u001b[39m\u001b[32mIn[5]\u001b[39m\u001b[32m, line 1\u001b[39m\n\u001b[32m----> \u001b[39m\u001b[32m1\u001b[39m \u001b[43mdata\u001b[49m[\u001b[33m\"\u001b[39m\u001b[33mAge\u001b[39m\u001b[33m\"\u001b[39m].mean()\n",
      "\u001b[31mNameError\u001b[39m: name 'data' is not defined"
     ]
    }
   ],
   "source": [
    "data[\"Age\"].mean()"
   ]
  }
 ],
 "metadata": {
  "kernelspec": {
   "display_name": "MyvitualEnvironment",
   "language": "python",
   "name": "python3"
  },
  "language_info": {
   "codemirror_mode": {
    "name": "ipython",
    "version": 3
   },
   "file_extension": ".py",
   "mimetype": "text/x-python",
   "name": "python",
   "nbconvert_exporter": "python",
   "pygments_lexer": "ipython3",
   "version": "3.12.10"
  }
 },
 "nbformat": 4,
 "nbformat_minor": 5
}
