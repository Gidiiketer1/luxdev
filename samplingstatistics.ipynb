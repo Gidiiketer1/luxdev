{
 "cells": [
  {
   "cell_type": "markdown",
   "id": "83573e4d",
   "metadata": {},
   "source": [
    "sampling statistics"
   ]
  },
  {
   "cell_type": "code",
   "execution_count": 1,
   "id": "0943b845",
   "metadata": {},
   "outputs": [],
   "source": [
    "pumpkin=[\"A\",\"B\",\"C\",\"D\",\"E\",\"F\"]\n",
    "weights=[19,14,15,9,10,17]"
   ]
  },
  {
   "cell_type": "code",
   "execution_count": null,
   "id": "5da0283c",
   "metadata": {},
   "outputs": [
    {
     "name": "stdout",
     "output_type": "stream",
     "text": [
      "{'A': 19, 'B': 14, 'C': 15, 'D': 9, 'E': 10, 'F': 17}\n"
     ]
    }
   ],
   "source": [
    "pumpkindict=dict(zip(pumpkin,weights))\n",
    "print(pumpkindict)"
   ]
  },
  {
   "cell_type": "code",
   "execution_count": null,
   "id": "9a3053db",
   "metadata": {},
   "outputs": [],
   "source": [
    "#calculating the mean of the weights\n",
    "def calculate_mu(x):\n",
    "    d=sum(x.values())/len(x)\n",
    "    return d"
   ]
  },
  {
   "cell_type": "code",
   "execution_count": 4,
   "id": "82269136",
   "metadata": {},
   "outputs": [
    {
     "name": "stdout",
     "output_type": "stream",
     "text": [
      "14.0\n"
     ]
    }
   ],
   "source": [
    "mu=calculate_mu(pumpkindict)\n",
    "print(mu)"
   ]
  },
  {
   "cell_type": "code",
   "execution_count": 5,
   "id": "0db69f1f",
   "metadata": {},
   "outputs": [],
   "source": [
    "import matplotlib.pyplot as plt"
   ]
  },
  {
   "cell_type": "code",
   "execution_count": null,
   "id": "5f1b657c",
   "metadata": {},
   "outputs": [
    {
     "data": {
      "image/png": "[encoded data removed]",
      "text/plain": [
       "<Figure size 640x480 with 1 Axes>"
      ]
     },
     "metadata": {},
     "output_type": "display_data"
    }
   ],
   "source": [
    "#ploting the different weights and their differet mean\n",
    "#Plot bar graph \n",
    "plt.bar(pumpkin, weights, color=\"orange\", edgecolor=\"black\")\n",
    " \n",
    "#Add mean line\n",
    "plt.axhline(mu, color=\"red\", linestyle=\"--\", linewidth=2, label=f\"Mean = {mu}\")\n",
    " \n",
    "#Add labels and title\n",
    "plt.xlabel(\"Pumpkins\") \n",
    "plt.ylabel(\"Weight\") \n",
    "plt.title(\"Pumpkin Weights with Mean Highlighted\") \n",
    "plt.legend()\n",
    " \n",
    "#Show plot\n",
    "plt.show()"
   ]
  },
  {
   "cell_type": "code",
   "execution_count": 7,
   "id": "104b2e0e",
   "metadata": {},
   "outputs": [],
   "source": [
    "import itertools "
   ]
  },
  {
   "cell_type": "code",
   "execution_count": 11,
   "id": "0b3f6703",
   "metadata": {},
   "outputs": [],
   "source": [
    "n=2"
   ]
  },
  {
   "cell_type": "code",
   "execution_count": null,
   "id": "5d2cc65c",
   "metadata": {},
   "outputs": [
    {
     "name": "stdout",
     "output_type": "stream",
     "text": [
      "[('A', 'B'), ('A', 'C'), ('A', 'D'), ('A', 'E'), ('A', 'F'), ('B', 'C'), ('B', 'D'), ('B', 'E'), ('B', 'F'), ('C', 'D'), ('C', 'E'), ('C', 'F'), ('D', 'E'), ('D', 'F'), ('E', 'F')]\n"
     ]
    }
   ],
   "source": [
    "#creating the possible amples out of the population\n",
    "comb=list(itertools.combinations(pumpkindict.keys(),n))\n",
    "print(comb)"
   ]
  },
  {
   "cell_type": "code",
   "execution_count": null,
   "id": "33d8380a",
   "metadata": {},
   "outputs": [],
   "source": [
    "#extracting sample means\n",
    "xbar_list=[]\n",
    "for comb in combs:\n",
    "    sample_weights=[pumpkindict[p]for p in comb]\n",
    "    sample_mean=sum(sample_weights)/n\n",
    "    xbar_list.append(sample_mean)\n",
    "    "
   ]
  },
  {
   "cell_type": "code",
   "execution_count": 14,
   "id": "ab5f09be",
   "metadata": {},
   "outputs": [
    {
     "name": "stdout",
     "output_type": "stream",
     "text": [
      "[16.5, 17.0, 14.0, 14.5, 18.0, 14.5, 11.5, 12.0, 15.5, 12.0, 12.5, 16.0, 9.5, 13.0, 13.5]\n"
     ]
    }
   ],
   "source": [
    "print(xbar_list)"
   ]
  },
  {
   "cell_type": "code",
   "execution_count": null,
   "id": "f5ab392c",
   "metadata": {},
   "outputs": [
    {
     "name": "stdout",
     "output_type": "stream",
     "text": [
      "('A', 'B') 16.5\n",
      "('A', 'C') 17.0\n",
      "('A', 'D') 14.0\n",
      "('A', 'E') 14.5\n",
      "('A', 'F') 18.0\n",
      "('B', 'C') 14.5\n",
      "('B', 'D') 11.5\n",
      "('B', 'E') 12.0\n",
      "('B', 'F') 15.5\n",
      "('C', 'D') 12.0\n",
      "('C', 'E') 12.5\n",
      "('C', 'F') 16.0\n",
      "('D', 'E') 9.5\n",
      "('D', 'F') 13.0\n",
      "('E', 'F') 13.5\n"
     ]
    }
   ],
   "source": [
    "# paring respective samples to its cooresponding mean\n",
    "for c,m in zip(combs,xbar_list):\n",
    "    print(c,m)"
   ]
  },
  {
   "cell_type": "code",
   "execution_count": null,
   "id": "c0c4b758",
   "metadata": {},
   "outputs": [],
   "source": [
    "#sampling up means to test deviations\n",
    "mu_x_hat=sum(xbar_list)/len(xbar_list)"
   ]
  },
  {
   "cell_type": "code",
   "execution_count": 17,
   "id": "57ed43c9",
   "metadata": {},
   "outputs": [
    {
     "name": "stdout",
     "output_type": "stream",
     "text": [
      "14.0\n"
     ]
    }
   ],
   "source": [
    "print(mu_x_hat)"
   ]
  },
  {
   "cell_type": "code",
   "execution_count": null,
   "id": "5d2d4c5a",
   "metadata": {},
   "outputs": [],
   "source": []
  }
 ],
 "metadata": {
  "kernelspec": {
   "display_name": "MyvitualEnvironment",
   "language": "python",
   "name": "python3"
  },
  "language_info": {
   "codemirror_mode": {
    "name": "ipython",
    "version": 3
   },
   "file_extension": ".py",
   "mimetype": "text/x-python",
   "name": "python",
   "nbconvert_exporter": "python",
   "pygments_lexer": "ipython3",
   "version": "3.12.10"
  }
 },
 "nbformat": 4,
 "nbformat_minor": 5
}
