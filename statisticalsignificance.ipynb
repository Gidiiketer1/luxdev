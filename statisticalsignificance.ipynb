{
 "cells": [
  {
   "cell_type": "code",
   "execution_count": 6,
   "id": "d6b598d0",
   "metadata": {},
   "outputs": [],
   "source": [
    "import numpy as np\n",
    "from scipy import stats\n",
    "sample = np.array([15.46097664, 15.5930238 , 19.55426936, 16.54231132, 18.40712804,\n",
    "                   13.33092129, 13.79141786, 12.44315636, 15.70385525, 12.48722755,\n",
    "                   11.81594655, 15.22694063, 18.25064431, 15.93900563, 17.38471543,\n",
    "                   15.02334988, 14.55826229, 16.64212199, 16.50657618, 13.44759329,\n",
    "                   13.05467437, 14.151049  , 13.55036322, 13.37386788, 10.25090132,\n",
    "                   16.45380807, 12.63016764, 11.90102614, 15.34426397, 15.2048003 ,\n",
    "                   11.60623705, 16.10720081, 16.42266283, 13.74686281, 14.51850311,\n",
    "                   15.59951107, 18.03269318, 14.35882143, 17.95626942, 14.06849303,\n",
    "                   14.4507767 , 17.27149508, 15.06747021, 13.82402614, 12.40651465,\n",
    "                   15.94104138, 16.8003216 , 18.45973001, 14.24757027, 14.06031845])"
   ]
  },
  {
   "cell_type": "code",
   "execution_count": 7,
   "id": "5236b8cd",
   "metadata": {},
   "outputs": [
    {
     "data": {
      "text/plain": [
       "np.float64(14.9794176958)"
      ]
     },
     "execution_count": 7,
     "metadata": {},
     "output_type": "execute_result"
    }
   ],
   "source": [
    "sample_mean = sample.mean()\n",
    "sample_mean"
   ]
  },
  {
   "cell_type": "code",
   "execution_count": 8,
   "id": "d51a4425",
   "metadata": {},
   "outputs": [
    {
     "data": {
      "text/plain": [
       "np.float64(2.042036093928169)"
      ]
     },
     "execution_count": 8,
     "metadata": {},
     "output_type": "execute_result"
    }
   ],
   "source": [
    "sample_sd=np.std(sample, ddof=1)\n",
    "sample_sd"
   ]
  },
  {
   "cell_type": "code",
   "execution_count": 9,
   "id": "2d138a0d",
   "metadata": {},
   "outputs": [
    {
     "data": {
      "text/plain": [
       "np.float64(0.2887875138888596)"
      ]
     },
     "execution_count": 9,
     "metadata": {},
     "output_type": "execute_result"
    }
   ],
   "source": [
    "sample_se=sample_sd/(np.sqrt(len(sample)))\n",
    "sample_se"
   ]
  },
  {
   "cell_type": "code",
   "execution_count": 12,
   "id": "f8810638",
   "metadata": {},
   "outputs": [
    {
     "data": {
      "text/plain": [
       "(np.float64(14.399077459096832), np.float64(15.55975793250317))"
      ]
     },
     "execution_count": 12,
     "metadata": {},
     "output_type": "execute_result"
    }
   ],
   "source": [
    "confidence_interval=stats.t.interval(confidence=0.95, df=len(sample)-1, loc=sample_mean,scale=sample_se)\n",
    "confidence_interval"
   ]
  },
  {
   "cell_type": "code",
   "execution_count": 16,
   "id": "db9af366",
   "metadata": {},
   "outputs": [
    {
     "data": {
      "text/plain": [
       "np.float64(0.029646353064078555)"
      ]
     },
     "execution_count": 16,
     "metadata": {},
     "output_type": "execute_result"
    }
   ],
   "source": [
    "# z-test\n",
    "from scipy import stats\n",
    "import numpy as np\n",
    "sample_size=40\n",
    "population_mean=100\n",
    "population_sd=16\n",
    "x_bar=103\n",
    "alpha=0.05\n",
    "z_statistic=(x_bar-population_mean)/(population_sd)/(np.sqrt(sample_size))\n",
    "z_statistic"
   ]
  },
  {
   "cell_type": "code",
   "execution_count": 15,
   "id": "f9c5be7c",
   "metadata": {},
   "outputs": [
    {
     "data": {
      "text/plain": [
       "np.float64(0.5118254514277392)"
      ]
     },
     "execution_count": 15,
     "metadata": {},
     "output_type": "execute_result"
    }
   ],
   "source": [
    "z_cdf=stats.norm.cdf(z_statistic)\n",
    "z_cdf"
   ]
  },
  {
   "cell_type": "code",
   "execution_count": 18,
   "id": "07250ac3",
   "metadata": {},
   "outputs": [
    {
     "data": {
      "text/plain": [
       "np.float64(0.48817454857226084)"
      ]
     },
     "execution_count": 18,
     "metadata": {},
     "output_type": "execute_result"
    }
   ],
   "source": [
    "p_value3=1-z_cdf\n",
    "p_value3"
   ]
  },
  {
   "cell_type": "code",
   "execution_count": 19,
   "id": "2a926194",
   "metadata": {},
   "outputs": [
    {
     "name": "stdout",
     "output_type": "stream",
     "text": [
      "fail to reject the null hypothesis\n"
     ]
    }
   ],
   "source": [
    "#if our p value is less than alpha we reject the null hypothesis\n",
    "if p_value<alpha:\n",
    "  print(\"reject the null hypothesis\")\n",
    "else:\n",
    "  print(\"fail to reject the null hypothesis\")"
   ]
  },
  {
   "cell_type": "code",
   "execution_count": 20,
   "id": "4eb059e7",
   "metadata": {},
   "outputs": [
    {
     "data": {
      "text/plain": [
       "np.float64(3.0)"
      ]
     },
     "execution_count": 20,
     "metadata": {},
     "output_type": "execute_result"
    }
   ],
   "source": [
    "from scipy import stats\n",
    "import numpy as np\n",
    "sample_size_secs=36\n",
    "mean_secs=60\n",
    "sec_sd=30\n",
    "sec_x_bar=75\n",
    "alternative_hypotheis=\"contradicting the claim of first service\"\n",
    "null_hypothesis=\"accepting the claim of first service\"\n",
    "z_sec_statistic=(sec_x_bar-mean_secs)/((sec_sd)/np.sqrt(sample_size_secs))\n",
    "z_sec_statistic"
   ]
  },
  {
   "cell_type": "code",
   "execution_count": 22,
   "id": "bb594f0d",
   "metadata": {},
   "outputs": [
    {
     "data": {
      "text/plain": [
       "np.float64(0.0013498980316301035)"
      ]
     },
     "execution_count": 22,
     "metadata": {},
     "output_type": "execute_result"
    }
   ],
   "source": [
    "#p value for the second test\n",
    "sec_cdf = stats.norm.cdf(z_sec_statistic)\n",
    "p_sec_value = 1 - sec_cdf\n",
    "p_sec_value"
   ]
  },
  {
   "cell_type": "code",
   "execution_count": 23,
   "id": "8fc9138a",
   "metadata": {},
   "outputs": [
    {
     "name": "stdout",
     "output_type": "stream",
     "text": [
      "reject the null hypothesis\n"
     ]
    }
   ],
   "source": [
    "# if our p value is less than alpha we reject the null hypothesis\n",
    "if p_sec_value < alpha:\n",
    "    print(\"reject the null hypothesis\")\n",
    "else:\n",
    "    print(\"fail to reject the null hypothesis\")"
   ]
  },
  {
   "cell_type": "code",
   "execution_count": 25,
   "id": "d6b78700",
   "metadata": {},
   "outputs": [],
   "source": [
    "# SAT scores of 25 students\n",
    "sat_scores = np.array([434, 694, 457, 534, 720, 400, 484, 478, 610, 641, 425, 636, 454, 514, 563, 370, 499, 640, 501, 625, 612, 471, 598, 509, 531])"
   ]
  },
  {
   "cell_type": "code",
   "execution_count": 26,
   "id": "c5610956",
   "metadata": {},
   "outputs": [],
   "source": [
    "# Population parameters\n",
    "pop_mean = 500\n",
    "pop_sd = 100\n",
    "n = len(sat_scores)\n",
    "alpha = 0.05"
   ]
  },
  {
   "cell_type": "code",
   "execution_count": 27,
   "id": "6396eaac",
   "metadata": {},
   "outputs": [],
   "source": [
    "# Sample mean\n",
    "sat_mean = sat_scores.mean()"
   ]
  },
  {
   "cell_type": "code",
   "execution_count": 28,
   "id": "f3c86c34",
   "metadata": {},
   "outputs": [],
   "source": [
    "# Z-statistic for one-sided test (greater than)\n",
    "z_sat = (sat_mean - pop_mean) / (pop_sd / np.sqrt(n))"
   ]
  },
  {
   "cell_type": "code",
   "execution_count": 29,
   "id": "23489ac2",
   "metadata": {},
   "outputs": [
    {
     "name": "stdout",
     "output_type": "stream",
     "text": [
      "Sample mean: 536.00\n",
      "Z-statistic: 1.8000\n",
      "P-value: 0.0359\n",
      "Reject the null hypothesis: The students' SAT scores are significantly higher than the population mean.\n"
     ]
    }
   ],
   "source": [
    "# p-value (one-sided, upper tail)\n",
    "p_sat = 1 - stats.norm.cdf(z_sat)\n",
    "\n",
    "print(f\"Sample mean: {sat_mean:.2f}\")\n",
    "print(f\"Z-statistic: {z_sat:.4f}\")\n",
    "print(f\"P-value: {p_sat:.4f}\")\n",
    "\n",
    "if p_sat < alpha:\n",
    "    print(\"Reject the null hypothesis: The students' SAT scores are significantly higher than the population mean.\")\n",
    "else:\n",
    "    print(\"Fail to reject the null hypothesis: No significant increase in SAT scores.\")"
   ]
  },
  {
   "cell_type": "code",
   "execution_count": null,
   "id": "53c669fe",
   "metadata": {},
   "outputs": [
    {
     "name": "stdout",
     "output_type": "stream",
     "text": [
      "Sample mean: 536.00\n",
      "Z-statistic: 1.8000\n",
      "P-value: 0.0359\n",
      "Reject the null hypothesis: The students' SAT scores are significantly higher than the population mean.\n"
     ]
    }
   ],
   "source": [
    "# SAT scores of 25 students\n",
    "sat_scores = np.array([434, 694, 457, 534, 720, 400, 484, 478, 610, 641, 425, 636, 454, 514, 563, 370, 499, 640, 501, 625, 612, 471, 598, 509, 531])\n",
    "\n",
    "# Population parameters\n",
    "pop_mean = 500\n",
    "pop_sd = 100\n",
    "n = len(sat_scores)\n",
    "alpha = 0.05\n",
    "\n",
    "# Sample mean\n",
    "sat_mean = sat_scores.mean()\n",
    "\n",
    "# Z-statistic for one-sided test (greater than)\n",
    "z_sat = (sat_mean - pop_mean) / (pop_sd / np.sqrt(n))\n",
    "\n",
    "# p-value (one-sided, upper tail)\n",
    "p_sat = 1 - stats.norm.cdf(z_sat)\n",
    "\n",
    "print(f\"Sample mean: {sat_mean:.2f}\")\n",
    "print(f\"Z-statistic: {z_sat:.4f}\")\n",
    "print(f\"P-value: {p_sat:.4f}\")\n",
    "\n",
    "if p_sat < alpha:\n",
    "    print(\"Reject the null hypothesis: The students' SAT scores are significantly higher than the population mean.\")\n",
    "else:\n",
    "    print(\"Fail to reject the null hypothesis: No significant increase in SAT scores.\")"
   ]
  }
 ],
 "metadata": {
  "kernelspec": {
   "display_name": "MyvitualEnvironment",
   "language": "python",
   "name": "python3"
  },
  "language_info": {
   "codemirror_mode": {
    "name": "ipython",
    "version": 3
   },
   "file_extension": ".py",
   "mimetype": "text/x-python",
   "name": "python",
   "nbconvert_exporter": "python",
   "pygments_lexer": "ipython3",
   "version": "3.12.10"
  }
 },
 "nbformat": 4,
 "nbformat_minor": 5
}
