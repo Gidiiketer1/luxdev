{
 "cells": [
  {
   "cell_type": "code",
   "execution_count": 1,
   "id": "bc538c3f",
   "metadata": {},
   "outputs": [],
   "source": [
    "import numpy as np\n",
    "import pandas as pd\n",
    "import scipy.stats as stats\n",
    "import matplotlib.pyplot as plt"
   ]
  },
  {
   "cell_type": "code",
   "execution_count": 2,
   "id": "6576f150",
   "metadata": {},
   "outputs": [
    {
     "data": {
      "application/vnd.microsoft.datawrangler.viewer.v0+json": {
       "columns": [
        {
         "name": "index",
         "rawType": "int64",
         "type": "integer"
        },
        {
         "name": "Super Bowl",
         "rawType": "int64",
         "type": "integer"
        },
        {
         "name": "Coin Toss Outcome",
         "rawType": "object",
         "type": "string"
        },
        {
         "name": "Coin Toss Winner",
         "rawType": "object",
         "type": "string"
        },
        {
         "name": "Game Winner",
         "rawType": "object",
         "type": "string"
        }
       ],
       "ref": "9a4c2ff9-e733-445b-84b7-fd103e33c996",
       "rows": [
        [
         "50",
         "51",
         "Tails",
         "Home Team",
         "Away Team"
        ],
        [
         "51",
         "52",
         "Heads",
         "Home Team",
         "Away Team"
        ],
        [
         "52",
         "53",
         "Tails",
         "Home Team",
         "Away Team"
        ],
        [
         "53",
         "54",
         "Tails",
         "Away Team",
         "Home Team"
        ],
        [
         "54",
         "55",
         "Heads",
         "Away Team",
         "Home Team"
        ]
       ],
       "shape": {
        "columns": 4,
        "rows": 5
       }
      },
      "text/html": [
       "<div>\n",
       "<style scoped>\n",
       "    .dataframe tbody tr th:only-of-type {\n",
       "        vertical-align: middle;\n",
       "    }\n",
       "\n",
       "    .dataframe tbody tr th {\n",
       "        vertical-align: top;\n",
       "    }\n",
       "\n",
       "    .dataframe thead th {\n",
       "        text-align: right;\n",
       "    }\n",
       "</style>\n",
       "<table border=\"1\" class=\"dataframe\">\n",
       "  <thead>\n",
       "    <tr style=\"text-align: right;\">\n",
       "      <th></th>\n",
       "      <th>Super Bowl</th>\n",
       "      <th>Coin Toss Outcome</th>\n",
       "      <th>Coin Toss Winner</th>\n",
       "      <th>Game Winner</th>\n",
       "    </tr>\n",
       "  </thead>\n",
       "  <tbody>\n",
       "    <tr>\n",
       "      <th>50</th>\n",
       "      <td>51</td>\n",
       "      <td>Tails</td>\n",
       "      <td>Home Team</td>\n",
       "      <td>Away Team</td>\n",
       "    </tr>\n",
       "    <tr>\n",
       "      <th>51</th>\n",
       "      <td>52</td>\n",
       "      <td>Heads</td>\n",
       "      <td>Home Team</td>\n",
       "      <td>Away Team</td>\n",
       "    </tr>\n",
       "    <tr>\n",
       "      <th>52</th>\n",
       "      <td>53</td>\n",
       "      <td>Tails</td>\n",
       "      <td>Home Team</td>\n",
       "      <td>Away Team</td>\n",
       "    </tr>\n",
       "    <tr>\n",
       "      <th>53</th>\n",
       "      <td>54</td>\n",
       "      <td>Tails</td>\n",
       "      <td>Away Team</td>\n",
       "      <td>Home Team</td>\n",
       "    </tr>\n",
       "    <tr>\n",
       "      <th>54</th>\n",
       "      <td>55</td>\n",
       "      <td>Heads</td>\n",
       "      <td>Away Team</td>\n",
       "      <td>Home Team</td>\n",
       "    </tr>\n",
       "  </tbody>\n",
       "</table>\n",
       "</div>"
      ],
      "text/plain": [
       "    Super Bowl Coin Toss Outcome Coin Toss Winner Game Winner\n",
       "50          51             Tails        Home Team   Away Team\n",
       "51          52             Heads        Home Team   Away Team\n",
       "52          53             Tails        Home Team   Away Team\n",
       "53          54             Tails        Away Team   Home Team\n",
       "54          55             Heads        Away Team   Home Team"
      ]
     },
     "execution_count": 2,
     "metadata": {},
     "output_type": "execute_result"
    }
   ],
   "source": [
    "# Load the Super Bowl data\n",
    "sb_data = pd.read_csv(\"superbowl.csv\")\n",
    "sb_data.tail()"
   ]
  },
  {
   "cell_type": "code",
   "execution_count": 3,
   "id": "e672e38c",
   "metadata": {},
   "outputs": [],
   "source": [
    "# Generate sample data as a normal continuous random variable\n",
    "#sample_data = stats.norm.rvs(loc=20, scale=2, size=50, random_state=5)\n",
    "\n",
    "# Plot data as well as theoretical mean of 21\n",
    "#fig, ax = plt.subplots()\n",
    "#ax.hist(sample_data, alpha=0.5, label=\"Sample Data\")\n",
    "#ax.axvline(sample_data.mean(), linestyle=\"--\", label=r\"Sample Mean $\\mu$\")\n",
    "#ax.axvline(21, linestyle=\"--\", color=\"orange\", label=r\"Theoretical Mean $\\mu_{0}$\")\n",
    "#ax.set_ylabel(\"Count\")\n",
    "#ax.legend();"
   ]
  },
  {
   "cell_type": "code",
   "execution_count": 5,
   "id": "e76ae042",
   "metadata": {},
   "outputs": [
    {
     "data": {
      "application/vnd.microsoft.datawrangler.viewer.v0+json": {
       "columns": [
        {
         "name": "Coin Toss Winner",
         "rawType": "object",
         "type": "string"
        },
        {
         "name": "count",
         "rawType": "int64",
         "type": "integer"
        }
       ],
       "ref": "f63ef85f-ff95-48f0-ac23-ad317d526e9c",
       "rows": [
        [
         "Away Team",
         "30"
        ],
        [
         "Home Team",
         "25"
        ]
       ],
       "shape": {
        "columns": 1,
        "rows": 2
       }
      },
      "text/plain": [
       "Coin Toss Winner\n",
       "Away Team    30\n",
       "Home Team    25\n",
       "Name: count, dtype: int64"
      ]
     },
     "execution_count": 5,
     "metadata": {},
     "output_type": "execute_result"
    }
   ],
   "source": [
    "sb_data[\"Coin Toss Winner\"].value_counts()"
   ]
  },
  {
   "cell_type": "code",
   "execution_count": 6,
   "id": "bcbfe69d",
   "metadata": {},
   "outputs": [
    {
     "data": {
      "application/vnd.microsoft.datawrangler.viewer.v0+json": {
       "columns": [
        {
         "name": "Game Winner",
         "rawType": "object",
         "type": "string"
        },
        {
         "name": "count",
         "rawType": "int64",
         "type": "integer"
        }
       ],
       "ref": "7cb0ab4a-1d47-4ff2-b318-08f3d17bda33",
       "rows": [
        [
         "Away Team",
         "31"
        ],
        [
         "Home Team",
         "24"
        ]
       ],
       "shape": {
        "columns": 1,
        "rows": 2
       }
      },
      "text/plain": [
       "Game Winner\n",
       "Away Team    31\n",
       "Home Team    24\n",
       "Name: count, dtype: int64"
      ]
     },
     "execution_count": 6,
     "metadata": {},
     "output_type": "execute_result"
    }
   ],
   "source": [
    "sb_data[\"Game Winner\"].value_counts()"
   ]
  },
  {
   "cell_type": "code",
   "execution_count": 8,
   "id": "54286be4",
   "metadata": {},
   "outputs": [],
   "source": [
    "coin_toss_counts = sb_data[\"Coin Toss Outcome\"].value_counts()\n"
   ]
  },
  {
   "cell_type": "code",
   "execution_count": 9,
   "id": "19354ea6",
   "metadata": {},
   "outputs": [
    {
     "data": {
      "text/plain": [
       "[27.5, 27.5]"
      ]
     },
     "execution_count": 9,
     "metadata": {},
     "output_type": "execute_result"
    }
   ],
   "source": [
    "fair_coin_expected = [sum(coin_toss_counts) / 2, sum(coin_toss_counts) / 2]\n",
    "fair_coin_expected"
   ]
  },
  {
   "cell_type": "code",
   "execution_count": 10,
   "id": "994fef03",
   "metadata": {},
   "outputs": [
    {
     "data": {
      "text/plain": [
       "array([29, 26])"
      ]
     },
     "execution_count": 10,
     "metadata": {},
     "output_type": "execute_result"
    }
   ],
   "source": [
    "fair_coin_observed = coin_toss_counts.values\n",
    "fair_coin_observed"
   ]
  },
  {
   "cell_type": "code",
   "execution_count": 12,
   "id": "f443544d",
   "metadata": {},
   "outputs": [
    {
     "data": {
      "text/plain": [
       "Power_divergenceResult(statistic=np.float64(0.16363636363636364), pvalue=np.float64(0.6858304344516056))"
      ]
     },
     "execution_count": 12,
     "metadata": {},
     "output_type": "execute_result"
    }
   ],
   "source": [
    "fair_coin_result = stats.chisquare(fair_coin_observed, fair_coin_expected)\n",
    "fair_coin_result"
   ]
  },
  {
   "cell_type": "code",
   "execution_count": 13,
   "id": "ce227c28",
   "metadata": {},
   "outputs": [
    {
     "data": {
      "application/vnd.microsoft.datawrangler.viewer.v0+json": {
       "columns": [
        {
         "name": "Game Winner",
         "rawType": "object",
         "type": "string"
        },
        {
         "name": "count",
         "rawType": "int64",
         "type": "integer"
        }
       ],
       "ref": "b5d6e4a3-9b4c-4a4c-a56c-bc3280fa8582",
       "rows": [
        [
         "Away Team",
         "31"
        ],
        [
         "Home Team",
         "24"
        ]
       ],
       "shape": {
        "columns": 1,
        "rows": 2
       }
      },
      "text/plain": [
       "Game Winner\n",
       "Away Team    31\n",
       "Home Team    24\n",
       "Name: count, dtype: int64"
      ]
     },
     "execution_count": 13,
     "metadata": {},
     "output_type": "execute_result"
    }
   ],
   "source": [
    "game_winner_counts = sb_data[\"Game Winner\"].value_counts()\n",
    "game_winner_counts"
   ]
  },
  {
   "cell_type": "code",
   "execution_count": 14,
   "id": "6f755566",
   "metadata": {},
   "outputs": [
    {
     "data": {
      "text/plain": [
       "array([31, 24])"
      ]
     },
     "execution_count": 14,
     "metadata": {},
     "output_type": "execute_result"
    }
   ],
   "source": [
    "observe = game_winner_counts.values\n",
    "observe"
   ]
  },
  {
   "cell_type": "code",
   "execution_count": 15,
   "id": "f357ab38",
   "metadata": {},
   "outputs": [
    {
     "data": {
      "text/plain": [
       "[27.5, 27.5]"
      ]
     },
     "execution_count": 15,
     "metadata": {},
     "output_type": "execute_result"
    }
   ],
   "source": [
    "expected = [sum(game_winner_counts) / 2, sum(game_winner_counts) / 2]\n",
    "expected"
   ]
  },
  {
   "cell_type": "code",
   "execution_count": 17,
   "id": "d02c7333",
   "metadata": {},
   "outputs": [
    {
     "data": {
      "text/plain": [
       "Power_divergenceResult(statistic=np.float64(0.8909090909090909), pvalue=np.float64(0.34523107177184))"
      ]
     },
     "execution_count": 17,
     "metadata": {},
     "output_type": "execute_result"
    }
   ],
   "source": [
    "results= stats.chisquare(observe, expected)\n",
    "results"
   ]
  }
 ],
 "metadata": {
  "kernelspec": {
   "display_name": "MyvitualEnvironment",
   "language": "python",
   "name": "python3"
  },
  "language_info": {
   "codemirror_mode": {
    "name": "ipython",
    "version": 3
   },
   "file_extension": ".py",
   "mimetype": "text/x-python",
   "name": "python",
   "nbconvert_exporter": "python",
   "pygments_lexer": "ipython3",
   "version": "3.12.10"
  }
 },
 "nbformat": 4,
 "nbformat_minor": 5
}
